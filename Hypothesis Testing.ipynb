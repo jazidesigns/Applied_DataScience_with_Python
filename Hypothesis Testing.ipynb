{
 "cells": [
  {
   "cell_type": "code",
   "execution_count": 27,
   "id": "2356c971",
   "metadata": {},
   "outputs": [
    {
     "name": "stdout",
     "output_type": "stream",
     "text": [
      "In the name of Allah, the Most Benoficient, the Most Merciful\n"
     ]
    }
   ],
   "source": [
    "Tasmia = \"In the name of Allah, the Most Benoficient, the Most Merciful\"\n",
    "print(Tasmia)"
   ]
  },
  {
   "cell_type": "markdown",
   "id": "65d2da41",
   "metadata": {},
   "source": [
    "### Import Libraries"
   ]
  },
  {
   "cell_type": "code",
   "execution_count": 28,
   "id": "e99dbfa6",
   "metadata": {},
   "outputs": [],
   "source": [
    "import pandas as pd\n",
    "from scipy.stats import ttest_ind"
   ]
  },
  {
   "cell_type": "markdown",
   "id": "78912ebe",
   "metadata": {},
   "source": [
    "### Hypothesis Testing"
   ]
  },
  {
   "cell_type": "code",
   "execution_count": 29,
   "id": "369a4655",
   "metadata": {},
   "outputs": [
    {
     "data": {
      "text/html": [
       "<div>\n",
       "<style scoped>\n",
       "    .dataframe tbody tr th:only-of-type {\n",
       "        vertical-align: middle;\n",
       "    }\n",
       "\n",
       "    .dataframe tbody tr th {\n",
       "        vertical-align: top;\n",
       "    }\n",
       "\n",
       "    .dataframe thead th {\n",
       "        text-align: right;\n",
       "    }\n",
       "</style>\n",
       "<table border=\"1\" class=\"dataframe\">\n",
       "  <thead>\n",
       "    <tr style=\"text-align: right;\">\n",
       "      <th></th>\n",
       "      <th>student_id</th>\n",
       "      <th>assignment1_grade</th>\n",
       "      <th>assignment1_submission</th>\n",
       "      <th>assignment2_grade</th>\n",
       "      <th>assignment2_submission</th>\n",
       "      <th>assignment3_grade</th>\n",
       "      <th>assignment3_submission</th>\n",
       "      <th>assignment4_grade</th>\n",
       "      <th>assignment4_submission</th>\n",
       "      <th>assignment5_grade</th>\n",
       "      <th>assignment5_submission</th>\n",
       "      <th>assignment6_grade</th>\n",
       "      <th>assignment6_submission</th>\n",
       "    </tr>\n",
       "  </thead>\n",
       "  <tbody>\n",
       "    <tr>\n",
       "      <th>0</th>\n",
       "      <td>B73F2C11-70F0-E37D-8B10-1D20AFED50B1</td>\n",
       "      <td>92.733946</td>\n",
       "      <td>2015-11-02 06:55:34.282000000</td>\n",
       "      <td>83.030552</td>\n",
       "      <td>2015-11-09 02:22:58.938000000</td>\n",
       "      <td>67.164441</td>\n",
       "      <td>2015-11-12 08:58:33.998000000</td>\n",
       "      <td>53.011553</td>\n",
       "      <td>2015-11-16 01:21:24.663000000</td>\n",
       "      <td>47.710398</td>\n",
       "      <td>2015-11-20 13:24:59.692000000</td>\n",
       "      <td>38.168318</td>\n",
       "      <td>2015-11-22 18:31:15.934000000</td>\n",
       "    </tr>\n",
       "    <tr>\n",
       "      <th>1</th>\n",
       "      <td>98A0FAE0-A19A-13D2-4BB5-CFBFD94031D1</td>\n",
       "      <td>86.790821</td>\n",
       "      <td>2015-11-29 14:57:44.429000000</td>\n",
       "      <td>86.290821</td>\n",
       "      <td>2015-12-06 17:41:18.449000000</td>\n",
       "      <td>69.772657</td>\n",
       "      <td>2015-12-10 08:54:55.904000000</td>\n",
       "      <td>55.098125</td>\n",
       "      <td>2015-12-13 17:32:30.941000000</td>\n",
       "      <td>49.588313</td>\n",
       "      <td>2015-12-19 23:26:39.285000000</td>\n",
       "      <td>44.629482</td>\n",
       "      <td>2015-12-21 17:07:24.275000000</td>\n",
       "    </tr>\n",
       "    <tr>\n",
       "      <th>2</th>\n",
       "      <td>D0F62040-CEB0-904C-F563-2F8620916C4E</td>\n",
       "      <td>85.512541</td>\n",
       "      <td>2016-01-09 05:36:02.389000000</td>\n",
       "      <td>85.512541</td>\n",
       "      <td>2016-01-09 06:39:44.416000000</td>\n",
       "      <td>68.410033</td>\n",
       "      <td>2016-01-15 20:22:45.882000000</td>\n",
       "      <td>54.728026</td>\n",
       "      <td>2016-01-11 12:41:50.749000000</td>\n",
       "      <td>49.255224</td>\n",
       "      <td>2016-01-11 17:31:12.489000000</td>\n",
       "      <td>44.329701</td>\n",
       "      <td>2016-01-17 16:24:42.765000000</td>\n",
       "    </tr>\n",
       "    <tr>\n",
       "      <th>3</th>\n",
       "      <td>FFDF2B2C-F514-EF7F-6538-A6A53518E9DC</td>\n",
       "      <td>86.030665</td>\n",
       "      <td>2016-04-30 06:50:39.801000000</td>\n",
       "      <td>68.824532</td>\n",
       "      <td>2016-04-30 17:20:38.727000000</td>\n",
       "      <td>61.942079</td>\n",
       "      <td>2016-05-12 07:47:16.326000000</td>\n",
       "      <td>49.553663</td>\n",
       "      <td>2016-05-07 16:09:20.485000000</td>\n",
       "      <td>49.553663</td>\n",
       "      <td>2016-05-24 12:51:18.016000000</td>\n",
       "      <td>44.598297</td>\n",
       "      <td>2016-05-26 08:09:12.058000000</td>\n",
       "    </tr>\n",
       "    <tr>\n",
       "      <th>4</th>\n",
       "      <td>5ECBEEB6-F1CE-80AE-3164-E45E99473FB4</td>\n",
       "      <td>64.813800</td>\n",
       "      <td>2015-12-13 17:06:10.750000000</td>\n",
       "      <td>51.491040</td>\n",
       "      <td>2015-12-14 12:25:12.056000000</td>\n",
       "      <td>41.932832</td>\n",
       "      <td>2015-12-29 14:25:22.594000000</td>\n",
       "      <td>36.929549</td>\n",
       "      <td>2015-12-28 01:29:55.901000000</td>\n",
       "      <td>33.236594</td>\n",
       "      <td>2015-12-29 14:46:06.628000000</td>\n",
       "      <td>33.236594</td>\n",
       "      <td>2016-01-05 01:06:59.546000000</td>\n",
       "    </tr>\n",
       "  </tbody>\n",
       "</table>\n",
       "</div>"
      ],
      "text/plain": [
       "                             student_id  assignment1_grade  \\\n",
       "0  B73F2C11-70F0-E37D-8B10-1D20AFED50B1          92.733946   \n",
       "1  98A0FAE0-A19A-13D2-4BB5-CFBFD94031D1          86.790821   \n",
       "2  D0F62040-CEB0-904C-F563-2F8620916C4E          85.512541   \n",
       "3  FFDF2B2C-F514-EF7F-6538-A6A53518E9DC          86.030665   \n",
       "4  5ECBEEB6-F1CE-80AE-3164-E45E99473FB4          64.813800   \n",
       "\n",
       "          assignment1_submission  assignment2_grade  \\\n",
       "0  2015-11-02 06:55:34.282000000          83.030552   \n",
       "1  2015-11-29 14:57:44.429000000          86.290821   \n",
       "2  2016-01-09 05:36:02.389000000          85.512541   \n",
       "3  2016-04-30 06:50:39.801000000          68.824532   \n",
       "4  2015-12-13 17:06:10.750000000          51.491040   \n",
       "\n",
       "          assignment2_submission  assignment3_grade  \\\n",
       "0  2015-11-09 02:22:58.938000000          67.164441   \n",
       "1  2015-12-06 17:41:18.449000000          69.772657   \n",
       "2  2016-01-09 06:39:44.416000000          68.410033   \n",
       "3  2016-04-30 17:20:38.727000000          61.942079   \n",
       "4  2015-12-14 12:25:12.056000000          41.932832   \n",
       "\n",
       "          assignment3_submission  assignment4_grade  \\\n",
       "0  2015-11-12 08:58:33.998000000          53.011553   \n",
       "1  2015-12-10 08:54:55.904000000          55.098125   \n",
       "2  2016-01-15 20:22:45.882000000          54.728026   \n",
       "3  2016-05-12 07:47:16.326000000          49.553663   \n",
       "4  2015-12-29 14:25:22.594000000          36.929549   \n",
       "\n",
       "          assignment4_submission  assignment5_grade  \\\n",
       "0  2015-11-16 01:21:24.663000000          47.710398   \n",
       "1  2015-12-13 17:32:30.941000000          49.588313   \n",
       "2  2016-01-11 12:41:50.749000000          49.255224   \n",
       "3  2016-05-07 16:09:20.485000000          49.553663   \n",
       "4  2015-12-28 01:29:55.901000000          33.236594   \n",
       "\n",
       "          assignment5_submission  assignment6_grade  \\\n",
       "0  2015-11-20 13:24:59.692000000          38.168318   \n",
       "1  2015-12-19 23:26:39.285000000          44.629482   \n",
       "2  2016-01-11 17:31:12.489000000          44.329701   \n",
       "3  2016-05-24 12:51:18.016000000          44.598297   \n",
       "4  2015-12-29 14:46:06.628000000          33.236594   \n",
       "\n",
       "          assignment6_submission  \n",
       "0  2015-11-22 18:31:15.934000000  \n",
       "1  2015-12-21 17:07:24.275000000  \n",
       "2  2016-01-17 16:24:42.765000000  \n",
       "3  2016-05-26 08:09:12.058000000  \n",
       "4  2016-01-05 01:06:59.546000000  "
      ]
     },
     "execution_count": 29,
     "metadata": {},
     "output_type": "execute_result"
    }
   ],
   "source": [
    "df = pd.read_csv(\"grades.csv\")\n",
    "df.columns = [x.lower().strip() for x in df.columns]\n",
    "df[:5]"
   ]
  },
  {
   "cell_type": "code",
   "execution_count": 30,
   "id": "5ce82242",
   "metadata": {},
   "outputs": [
    {
     "name": "stdout",
     "output_type": "stream",
     "text": [
      "<class 'pandas.core.frame.DataFrame'>\n",
      "RangeIndex: 2315 entries, 0 to 2314\n",
      "Data columns (total 13 columns):\n",
      " #   Column                  Non-Null Count  Dtype  \n",
      "---  ------                  --------------  -----  \n",
      " 0   student_id              2315 non-null   object \n",
      " 1   assignment1_grade       2315 non-null   float64\n",
      " 2   assignment1_submission  2315 non-null   object \n",
      " 3   assignment2_grade       2315 non-null   float64\n",
      " 4   assignment2_submission  2315 non-null   object \n",
      " 5   assignment3_grade       2315 non-null   float64\n",
      " 6   assignment3_submission  2315 non-null   object \n",
      " 7   assignment4_grade       2315 non-null   float64\n",
      " 8   assignment4_submission  2315 non-null   object \n",
      " 9   assignment5_grade       2315 non-null   float64\n",
      " 10  assignment5_submission  2315 non-null   object \n",
      " 11  assignment6_grade       2315 non-null   float64\n",
      " 12  assignment6_submission  2315 non-null   object \n",
      "dtypes: float64(6), object(7)\n",
      "memory usage: 235.2+ KB\n"
     ]
    }
   ],
   "source": [
    "df.info()"
   ]
  },
  {
   "cell_type": "code",
   "execution_count": 31,
   "id": "35eda758",
   "metadata": {},
   "outputs": [
    {
     "data": {
      "text/html": [
       "<div>\n",
       "<style scoped>\n",
       "    .dataframe tbody tr th:only-of-type {\n",
       "        vertical-align: middle;\n",
       "    }\n",
       "\n",
       "    .dataframe tbody tr th {\n",
       "        vertical-align: top;\n",
       "    }\n",
       "\n",
       "    .dataframe thead th {\n",
       "        text-align: right;\n",
       "    }\n",
       "</style>\n",
       "<table border=\"1\" class=\"dataframe\">\n",
       "  <thead>\n",
       "    <tr style=\"text-align: right;\">\n",
       "      <th></th>\n",
       "      <th>assignment1_grade</th>\n",
       "      <th>assignment2_grade</th>\n",
       "      <th>assignment3_grade</th>\n",
       "      <th>assignment4_grade</th>\n",
       "      <th>assignment5_grade</th>\n",
       "      <th>assignment6_grade</th>\n",
       "    </tr>\n",
       "  </thead>\n",
       "  <tbody>\n",
       "    <tr>\n",
       "      <th>count</th>\n",
       "      <td>2315.000000</td>\n",
       "      <td>2315.000000</td>\n",
       "      <td>2315.000000</td>\n",
       "      <td>2315.000000</td>\n",
       "      <td>2315.000000</td>\n",
       "      <td>2315.000000</td>\n",
       "    </tr>\n",
       "    <tr>\n",
       "      <th>mean</th>\n",
       "      <td>74.535732</td>\n",
       "      <td>66.849007</td>\n",
       "      <td>60.623197</td>\n",
       "      <td>54.112112</td>\n",
       "      <td>48.618522</td>\n",
       "      <td>43.841452</td>\n",
       "    </tr>\n",
       "    <tr>\n",
       "      <th>std</th>\n",
       "      <td>16.353252</td>\n",
       "      <td>15.959210</td>\n",
       "      <td>15.492469</td>\n",
       "      <td>14.687431</td>\n",
       "      <td>13.927054</td>\n",
       "      <td>13.259413</td>\n",
       "    </tr>\n",
       "    <tr>\n",
       "      <th>min</th>\n",
       "      <td>14.423297</td>\n",
       "      <td>12.980967</td>\n",
       "      <td>12.307682</td>\n",
       "      <td>9.126146</td>\n",
       "      <td>8.213531</td>\n",
       "      <td>7.392178</td>\n",
       "    </tr>\n",
       "    <tr>\n",
       "      <th>25%</th>\n",
       "      <td>63.670100</td>\n",
       "      <td>56.127794</td>\n",
       "      <td>49.866390</td>\n",
       "      <td>43.852636</td>\n",
       "      <td>38.859619</td>\n",
       "      <td>34.828619</td>\n",
       "    </tr>\n",
       "    <tr>\n",
       "      <th>50%</th>\n",
       "      <td>77.208365</td>\n",
       "      <td>68.142124</td>\n",
       "      <td>61.307206</td>\n",
       "      <td>54.442888</td>\n",
       "      <td>48.681165</td>\n",
       "      <td>43.172442</td>\n",
       "    </tr>\n",
       "    <tr>\n",
       "      <th>75%</th>\n",
       "      <td>87.502146</td>\n",
       "      <td>78.310880</td>\n",
       "      <td>71.292632</td>\n",
       "      <td>63.789234</td>\n",
       "      <td>57.662236</td>\n",
       "      <td>52.086086</td>\n",
       "    </tr>\n",
       "    <tr>\n",
       "      <th>max</th>\n",
       "      <td>100.695583</td>\n",
       "      <td>99.936206</td>\n",
       "      <td>99.655813</td>\n",
       "      <td>98.755813</td>\n",
       "      <td>97.571739</td>\n",
       "      <td>97.571739</td>\n",
       "    </tr>\n",
       "  </tbody>\n",
       "</table>\n",
       "</div>"
      ],
      "text/plain": [
       "       assignment1_grade  assignment2_grade  assignment3_grade  \\\n",
       "count        2315.000000        2315.000000        2315.000000   \n",
       "mean           74.535732          66.849007          60.623197   \n",
       "std            16.353252          15.959210          15.492469   \n",
       "min            14.423297          12.980967          12.307682   \n",
       "25%            63.670100          56.127794          49.866390   \n",
       "50%            77.208365          68.142124          61.307206   \n",
       "75%            87.502146          78.310880          71.292632   \n",
       "max           100.695583          99.936206          99.655813   \n",
       "\n",
       "       assignment4_grade  assignment5_grade  assignment6_grade  \n",
       "count        2315.000000        2315.000000        2315.000000  \n",
       "mean           54.112112          48.618522          43.841452  \n",
       "std            14.687431          13.927054          13.259413  \n",
       "min             9.126146           8.213531           7.392178  \n",
       "25%            43.852636          38.859619          34.828619  \n",
       "50%            54.442888          48.681165          43.172442  \n",
       "75%            63.789234          57.662236          52.086086  \n",
       "max            98.755813          97.571739          97.571739  "
      ]
     },
     "execution_count": 31,
     "metadata": {},
     "output_type": "execute_result"
    }
   ],
   "source": [
    "df.describe()"
   ]
  },
  {
   "cell_type": "markdown",
   "id": "02ea20b0",
   "metadata": {},
   "source": [
    "**Early Finishers: Students who submit assignments earlier**"
   ]
  },
  {
   "cell_type": "code",
   "execution_count": 32,
   "id": "7a1b95a6",
   "metadata": {},
   "outputs": [
    {
     "data": {
      "text/html": [
       "<div>\n",
       "<style scoped>\n",
       "    .dataframe tbody tr th:only-of-type {\n",
       "        vertical-align: middle;\n",
       "    }\n",
       "\n",
       "    .dataframe tbody tr th {\n",
       "        vertical-align: top;\n",
       "    }\n",
       "\n",
       "    .dataframe thead th {\n",
       "        text-align: right;\n",
       "    }\n",
       "</style>\n",
       "<table border=\"1\" class=\"dataframe\">\n",
       "  <thead>\n",
       "    <tr style=\"text-align: right;\">\n",
       "      <th></th>\n",
       "      <th>student_id</th>\n",
       "      <th>assignment1_grade</th>\n",
       "      <th>assignment1_submission</th>\n",
       "      <th>assignment2_grade</th>\n",
       "      <th>assignment2_submission</th>\n",
       "      <th>assignment3_grade</th>\n",
       "      <th>assignment3_submission</th>\n",
       "      <th>assignment4_grade</th>\n",
       "      <th>assignment4_submission</th>\n",
       "      <th>assignment5_grade</th>\n",
       "      <th>assignment5_submission</th>\n",
       "      <th>assignment6_grade</th>\n",
       "      <th>assignment6_submission</th>\n",
       "    </tr>\n",
       "  </thead>\n",
       "  <tbody>\n",
       "    <tr>\n",
       "      <th>0</th>\n",
       "      <td>B73F2C11-70F0-E37D-8B10-1D20AFED50B1</td>\n",
       "      <td>92.733946</td>\n",
       "      <td>2015-11-02 06:55:34.282000000</td>\n",
       "      <td>83.030552</td>\n",
       "      <td>2015-11-09 02:22:58.938000000</td>\n",
       "      <td>67.164441</td>\n",
       "      <td>2015-11-12 08:58:33.998000000</td>\n",
       "      <td>53.011553</td>\n",
       "      <td>2015-11-16 01:21:24.663000000</td>\n",
       "      <td>47.710398</td>\n",
       "      <td>2015-11-20 13:24:59.692000000</td>\n",
       "      <td>38.168318</td>\n",
       "      <td>2015-11-22 18:31:15.934000000</td>\n",
       "    </tr>\n",
       "    <tr>\n",
       "      <th>1</th>\n",
       "      <td>98A0FAE0-A19A-13D2-4BB5-CFBFD94031D1</td>\n",
       "      <td>86.790821</td>\n",
       "      <td>2015-11-29 14:57:44.429000000</td>\n",
       "      <td>86.290821</td>\n",
       "      <td>2015-12-06 17:41:18.449000000</td>\n",
       "      <td>69.772657</td>\n",
       "      <td>2015-12-10 08:54:55.904000000</td>\n",
       "      <td>55.098125</td>\n",
       "      <td>2015-12-13 17:32:30.941000000</td>\n",
       "      <td>49.588313</td>\n",
       "      <td>2015-12-19 23:26:39.285000000</td>\n",
       "      <td>44.629482</td>\n",
       "      <td>2015-12-21 17:07:24.275000000</td>\n",
       "    </tr>\n",
       "    <tr>\n",
       "      <th>4</th>\n",
       "      <td>5ECBEEB6-F1CE-80AE-3164-E45E99473FB4</td>\n",
       "      <td>64.813800</td>\n",
       "      <td>2015-12-13 17:06:10.750000000</td>\n",
       "      <td>51.491040</td>\n",
       "      <td>2015-12-14 12:25:12.056000000</td>\n",
       "      <td>41.932832</td>\n",
       "      <td>2015-12-29 14:25:22.594000000</td>\n",
       "      <td>36.929549</td>\n",
       "      <td>2015-12-28 01:29:55.901000000</td>\n",
       "      <td>33.236594</td>\n",
       "      <td>2015-12-29 14:46:06.628000000</td>\n",
       "      <td>33.236594</td>\n",
       "      <td>2016-01-05 01:06:59.546000000</td>\n",
       "    </tr>\n",
       "    <tr>\n",
       "      <th>5</th>\n",
       "      <td>D09000A0-827B-C0FF-3433-BF8FF286E15B</td>\n",
       "      <td>71.647278</td>\n",
       "      <td>2015-12-28 04:35:32.836000000</td>\n",
       "      <td>64.052550</td>\n",
       "      <td>2016-01-03 21:05:38.392000000</td>\n",
       "      <td>64.752550</td>\n",
       "      <td>2016-01-07 08:55:43.692000000</td>\n",
       "      <td>57.467295</td>\n",
       "      <td>2016-01-11 00:45:28.706000000</td>\n",
       "      <td>57.467295</td>\n",
       "      <td>2016-01-11 00:54:13.579000000</td>\n",
       "      <td>57.467295</td>\n",
       "      <td>2016-01-20 19:54:46.166000000</td>\n",
       "    </tr>\n",
       "    <tr>\n",
       "      <th>8</th>\n",
       "      <td>C9D51293-BD58-F113-4167-A7C0BAFCB6E5</td>\n",
       "      <td>66.595568</td>\n",
       "      <td>2015-12-25 02:29:28.415000000</td>\n",
       "      <td>52.916454</td>\n",
       "      <td>2015-12-31 01:42:30.046000000</td>\n",
       "      <td>48.344809</td>\n",
       "      <td>2016-01-05 23:34:02.180000000</td>\n",
       "      <td>47.444809</td>\n",
       "      <td>2016-01-02 07:48:42.517000000</td>\n",
       "      <td>37.955847</td>\n",
       "      <td>2016-01-03 21:27:04.266000000</td>\n",
       "      <td>37.955847</td>\n",
       "      <td>2016-01-19 15:24:31.060000000</td>\n",
       "    </tr>\n",
       "  </tbody>\n",
       "</table>\n",
       "</div>"
      ],
      "text/plain": [
       "                             student_id  assignment1_grade  \\\n",
       "0  B73F2C11-70F0-E37D-8B10-1D20AFED50B1          92.733946   \n",
       "1  98A0FAE0-A19A-13D2-4BB5-CFBFD94031D1          86.790821   \n",
       "4  5ECBEEB6-F1CE-80AE-3164-E45E99473FB4          64.813800   \n",
       "5  D09000A0-827B-C0FF-3433-BF8FF286E15B          71.647278   \n",
       "8  C9D51293-BD58-F113-4167-A7C0BAFCB6E5          66.595568   \n",
       "\n",
       "          assignment1_submission  assignment2_grade  \\\n",
       "0  2015-11-02 06:55:34.282000000          83.030552   \n",
       "1  2015-11-29 14:57:44.429000000          86.290821   \n",
       "4  2015-12-13 17:06:10.750000000          51.491040   \n",
       "5  2015-12-28 04:35:32.836000000          64.052550   \n",
       "8  2015-12-25 02:29:28.415000000          52.916454   \n",
       "\n",
       "          assignment2_submission  assignment3_grade  \\\n",
       "0  2015-11-09 02:22:58.938000000          67.164441   \n",
       "1  2015-12-06 17:41:18.449000000          69.772657   \n",
       "4  2015-12-14 12:25:12.056000000          41.932832   \n",
       "5  2016-01-03 21:05:38.392000000          64.752550   \n",
       "8  2015-12-31 01:42:30.046000000          48.344809   \n",
       "\n",
       "          assignment3_submission  assignment4_grade  \\\n",
       "0  2015-11-12 08:58:33.998000000          53.011553   \n",
       "1  2015-12-10 08:54:55.904000000          55.098125   \n",
       "4  2015-12-29 14:25:22.594000000          36.929549   \n",
       "5  2016-01-07 08:55:43.692000000          57.467295   \n",
       "8  2016-01-05 23:34:02.180000000          47.444809   \n",
       "\n",
       "          assignment4_submission  assignment5_grade  \\\n",
       "0  2015-11-16 01:21:24.663000000          47.710398   \n",
       "1  2015-12-13 17:32:30.941000000          49.588313   \n",
       "4  2015-12-28 01:29:55.901000000          33.236594   \n",
       "5  2016-01-11 00:45:28.706000000          57.467295   \n",
       "8  2016-01-02 07:48:42.517000000          37.955847   \n",
       "\n",
       "          assignment5_submission  assignment6_grade  \\\n",
       "0  2015-11-20 13:24:59.692000000          38.168318   \n",
       "1  2015-12-19 23:26:39.285000000          44.629482   \n",
       "4  2015-12-29 14:46:06.628000000          33.236594   \n",
       "5  2016-01-11 00:54:13.579000000          57.467295   \n",
       "8  2016-01-03 21:27:04.266000000          37.955847   \n",
       "\n",
       "          assignment6_submission  \n",
       "0  2015-11-22 18:31:15.934000000  \n",
       "1  2015-12-21 17:07:24.275000000  \n",
       "4  2016-01-05 01:06:59.546000000  \n",
       "5  2016-01-20 19:54:46.166000000  \n",
       "8  2016-01-19 15:24:31.060000000  "
      ]
     },
     "execution_count": 32,
     "metadata": {},
     "output_type": "execute_result"
    }
   ],
   "source": [
    "early_finishers = df[pd.to_datetime(df[\"assignment1_submission\"]) < '2016']\n",
    "early_finishers.head()"
   ]
  },
  {
   "cell_type": "markdown",
   "id": "01de0f22",
   "metadata": {},
   "source": [
    "**Late Finishers: Students submit their assignment late**"
   ]
  },
  {
   "cell_type": "code",
   "execution_count": 33,
   "id": "4b6661e9",
   "metadata": {},
   "outputs": [],
   "source": [
    "late_finishers = df[pd.to_datetime(df[\"assignment1_submission\"]) > '2016']"
   ]
  },
  {
   "cell_type": "markdown",
   "id": "33b70454",
   "metadata": {},
   "source": [
    "**Compare average grades of early_finishers and late_finishers**"
   ]
  },
  {
   "cell_type": "code",
   "execution_count": 34,
   "id": "6bde367f",
   "metadata": {},
   "outputs": [
    {
     "name": "stdout",
     "output_type": "stream",
     "text": [
      "74.94728457024304\n",
      "74.0450648477065\n"
     ]
    }
   ],
   "source": [
    "print(early_finishers[\"assignment1_grade\"].mean())\n",
    "print(late_finishers[\"assignment1_grade\"].mean())"
   ]
  },
  {
   "cell_type": "markdown",
   "id": "efde5ea2",
   "metadata": {},
   "source": [
    "**Null Hypothesis: Both Groups have almost same average grades**"
   ]
  },
  {
   "cell_type": "markdown",
   "id": "292f95c7",
   "metadata": {},
   "source": [
    "**Alternate Hypothesis: Both Groups have different average grades**"
   ]
  },
  {
   "cell_type": "code",
   "execution_count": 35,
   "id": "b3dd2731",
   "metadata": {},
   "outputs": [
    {
     "data": {
      "text/plain": [
       "Ttest_indResult(statistic=1.3223540853721596, pvalue=0.18618101101713855)"
      ]
     },
     "execution_count": 35,
     "metadata": {},
     "output_type": "execute_result"
    }
   ],
   "source": [
    "ttest_ind(early_finishers[\"assignment1_grade\"], late_finishers[\"assignment1_grade\"])"
   ]
  },
  {
   "cell_type": "raw",
   "id": "b0070a1b",
   "metadata": {},
   "source": [
    "p_value > 0.05; We accept alternate hypothesis"
   ]
  },
  {
   "cell_type": "markdown",
   "id": "fccadf85",
   "metadata": {},
   "source": [
    "### Check Other Assignment Grades Statistics"
   ]
  },
  {
   "cell_type": "code",
   "execution_count": 43,
   "id": "416d6149",
   "metadata": {},
   "outputs": [],
   "source": [
    "def hypothesis(x, y):\n",
    "    _, pvalue = ttest_ind(x, y)\n",
    "    if pvalue > 0.05:\n",
    "        print(\"Alternate Hypotesis Accepted\")\n",
    "    else:\n",
    "        print(\"Null Hypothesis Accepted\")"
   ]
  },
  {
   "cell_type": "code",
   "execution_count": 49,
   "id": "f7e0a9e8",
   "metadata": {},
   "outputs": [
    {
     "name": "stdout",
     "output_type": "stream",
     "text": [
      "Alternate Hypotesis Accepted\n",
      "Alternate Hypotesis Accepted\n",
      "Alternate Hypotesis Accepted\n",
      "Alternate Hypotesis Accepted\n",
      "Alternate Hypotesis Accepted\n"
     ]
    }
   ],
   "source": [
    "hypothesis(early_finishers[\"assignment1_grade\"], late_finishers[\"assignment1_grade\"])\n",
    "hypothesis(early_finishers[\"assignment2_grade\"], late_finishers[\"assignment2_grade\"])\n",
    "hypothesis(early_finishers[\"assignment3_grade\"], late_finishers[\"assignment3_grade\"])\n",
    "hypothesis(early_finishers[\"assignment4_grade\"], late_finishers[\"assignment4_grade\"])\n",
    "hypothesis(early_finishers[\"assignment5_grade\"], late_finishers[\"assignment5_grade\"])"
   ]
  },
  {
   "cell_type": "code",
   "execution_count": null,
   "id": "9e84f4d7",
   "metadata": {},
   "outputs": [],
   "source": []
  }
 ],
 "metadata": {
  "kernelspec": {
   "display_name": "Python 3 (ipykernel)",
   "language": "python",
   "name": "python3"
  },
  "language_info": {
   "codemirror_mode": {
    "name": "ipython",
    "version": 3
   },
   "file_extension": ".py",
   "mimetype": "text/x-python",
   "name": "python",
   "nbconvert_exporter": "python",
   "pygments_lexer": "ipython3",
   "version": "3.7.11"
  }
 },
 "nbformat": 4,
 "nbformat_minor": 5
}
