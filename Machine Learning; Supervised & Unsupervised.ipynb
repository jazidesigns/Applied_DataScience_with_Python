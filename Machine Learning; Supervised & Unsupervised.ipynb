{
 "cells": [
  {
   "cell_type": "code",
   "execution_count": 1,
   "id": "55971e9b",
   "metadata": {},
   "outputs": [
    {
     "name": "stdout",
     "output_type": "stream",
     "text": [
      "In the name of Allah, the Most Benoficient, the Most Merciful\n"
     ]
    }
   ],
   "source": [
    "Tasmia = \"In the name of Allah, the Most Benoficient, the Most Merciful\"\n",
    "print(Tasmia)"
   ]
  },
  {
   "cell_type": "markdown",
   "id": "feb84479",
   "metadata": {},
   "source": [
    "### Import Libraries"
   ]
  },
  {
   "cell_type": "code",
   "execution_count": 18,
   "id": "65c08fa7",
   "metadata": {},
   "outputs": [],
   "source": [
    "import warnings\n",
    "warnings.filterwarnings(\"ignore\")\n",
    "import numpy as np\n",
    "import pandas as pd\n",
    "\n",
    "import matplotlib.pyplot as plt\n",
    "import seaborn as sns\n",
    "\n",
    "from sklearn.linear_model import LinearRegression\n",
    "from sklearn.linear_model import LogisticRegression\n",
    "from sklearn.tree import DecisionTreeClassifier\n",
    "from sklearn.neighbors import KNeighborsClassifier\n",
    "from sklearn.neighbors import KNeighborsRegressor\n",
    "from sklearn.svm import SVC\n",
    "from sklearn.svm import SVR\n",
    "\n",
    "from sklearn.metrics import mean_squared_error as MSE\n",
    "from sklearn.metrics import confusion_matrix\n",
    "from sklearn.metrics import classification_report\n",
    "from sklearn.metrics import accuracy_score\n",
    "\n",
    "import xgboost as xgb \n",
    "from sklearn.model_selection import train_test_split\n",
    "from sklearn.model_selection import GridSearchCV"
   ]
  },
  {
   "cell_type": "markdown",
   "id": "7e426b4c",
   "metadata": {},
   "source": [
    "### Import Dataset"
   ]
  },
  {
   "cell_type": "code",
   "execution_count": 3,
   "id": "febfa714",
   "metadata": {},
   "outputs": [
    {
     "data": {
      "text/html": [
       "<div>\n",
       "<style scoped>\n",
       "    .dataframe tbody tr th:only-of-type {\n",
       "        vertical-align: middle;\n",
       "    }\n",
       "\n",
       "    .dataframe tbody tr th {\n",
       "        vertical-align: top;\n",
       "    }\n",
       "\n",
       "    .dataframe thead th {\n",
       "        text-align: right;\n",
       "    }\n",
       "</style>\n",
       "<table border=\"1\" class=\"dataframe\">\n",
       "  <thead>\n",
       "    <tr style=\"text-align: right;\">\n",
       "      <th></th>\n",
       "      <th>fruit_label</th>\n",
       "      <th>fruit_name</th>\n",
       "      <th>fruit_subtype</th>\n",
       "      <th>mass</th>\n",
       "      <th>width</th>\n",
       "      <th>height</th>\n",
       "      <th>color_score</th>\n",
       "    </tr>\n",
       "  </thead>\n",
       "  <tbody>\n",
       "    <tr>\n",
       "      <th>9</th>\n",
       "      <td>1</td>\n",
       "      <td>apple</td>\n",
       "      <td>braeburn</td>\n",
       "      <td>172</td>\n",
       "      <td>7.4</td>\n",
       "      <td>7.0</td>\n",
       "      <td>0.89</td>\n",
       "    </tr>\n",
       "    <tr>\n",
       "      <th>40</th>\n",
       "      <td>3</td>\n",
       "      <td>orange</td>\n",
       "      <td>turkey_navel</td>\n",
       "      <td>154</td>\n",
       "      <td>7.1</td>\n",
       "      <td>7.5</td>\n",
       "      <td>0.78</td>\n",
       "    </tr>\n",
       "    <tr>\n",
       "      <th>54</th>\n",
       "      <td>4</td>\n",
       "      <td>lemon</td>\n",
       "      <td>unknown</td>\n",
       "      <td>116</td>\n",
       "      <td>6.1</td>\n",
       "      <td>8.5</td>\n",
       "      <td>0.71</td>\n",
       "    </tr>\n",
       "    <tr>\n",
       "      <th>42</th>\n",
       "      <td>3</td>\n",
       "      <td>orange</td>\n",
       "      <td>turkey_navel</td>\n",
       "      <td>154</td>\n",
       "      <td>7.2</td>\n",
       "      <td>7.2</td>\n",
       "      <td>0.82</td>\n",
       "    </tr>\n",
       "    <tr>\n",
       "      <th>24</th>\n",
       "      <td>3</td>\n",
       "      <td>orange</td>\n",
       "      <td>spanish_jumbo</td>\n",
       "      <td>342</td>\n",
       "      <td>9.0</td>\n",
       "      <td>9.4</td>\n",
       "      <td>0.75</td>\n",
       "    </tr>\n",
       "  </tbody>\n",
       "</table>\n",
       "</div>"
      ],
      "text/plain": [
       "    fruit_label fruit_name  fruit_subtype  mass  width  height  color_score\n",
       "9             1      apple       braeburn   172    7.4     7.0         0.89\n",
       "40            3     orange   turkey_navel   154    7.1     7.5         0.78\n",
       "54            4      lemon        unknown   116    6.1     8.5         0.71\n",
       "42            3     orange   turkey_navel   154    7.2     7.2         0.82\n",
       "24            3     orange  spanish_jumbo   342    9.0     9.4         0.75"
      ]
     },
     "execution_count": 3,
     "metadata": {},
     "output_type": "execute_result"
    }
   ],
   "source": [
    "df = pd.read_table(\"fruits.txt\")\n",
    "df.sample(5)"
   ]
  },
  {
   "cell_type": "markdown",
   "id": "f666c553",
   "metadata": {},
   "source": [
    "**Create a mapping from fruit label value to fruit name to make results easier to interpret**"
   ]
  },
  {
   "cell_type": "code",
   "execution_count": 4,
   "id": "47a3c11b",
   "metadata": {},
   "outputs": [
    {
     "data": {
      "text/plain": [
       "{1: 'apple', 2: 'mandarin', 3: 'orange', 4: 'lemon'}"
      ]
     },
     "execution_count": 4,
     "metadata": {},
     "output_type": "execute_result"
    }
   ],
   "source": [
    "label_fruit = dict(zip(df[\"fruit_label\"].unique(), df[\"fruit_name\"].unique()))\n",
    "label_fruit"
   ]
  },
  {
   "cell_type": "markdown",
   "id": "a098130e",
   "metadata": {},
   "source": [
    "### Examining the Data"
   ]
  },
  {
   "cell_type": "markdown",
   "id": "5ef83b60",
   "metadata": {},
   "source": [
    "**Features and Target**"
   ]
  },
  {
   "cell_type": "code",
   "execution_count": 5,
   "id": "c898ec4d",
   "metadata": {},
   "outputs": [],
   "source": [
    "# Features\n",
    "X = df[[\"mass\", \"width\", \"height\", \"color_score\"]]\n",
    "\n",
    "# Target\n",
    "y = df[\"fruit_label\"]"
   ]
  },
  {
   "cell_type": "markdown",
   "id": "55ab5a7e",
   "metadata": {},
   "source": [
    "**Split data into training and test set**"
   ]
  },
  {
   "cell_type": "code",
   "execution_count": 6,
   "id": "ab70641d",
   "metadata": {},
   "outputs": [],
   "source": [
    "X_train, X_test, y_train, y_test = train_test_split(X,\n",
    "                                                    y,\n",
    "                                                    test_size = 0.2,\n",
    "                                                    random_state = 10)"
   ]
  },
  {
   "cell_type": "markdown",
   "id": "4b185db9",
   "metadata": {},
   "source": [
    "**Plotting Scatter Matrix**"
   ]
  },
  {
   "cell_type": "code",
   "execution_count": 7,
   "id": "1f97caf0",
   "metadata": {},
   "outputs": [
    {
     "data": {
      "image/png": "[encoded data removed]",
      "text/plain": [
       "<Figure size 804x720 with 20 Axes>"
      ]
     },
     "metadata": {
      "needs_background": "light"
     },
     "output_type": "display_data"
    }
   ],
   "source": [
    "sns.pairplot(df[[\"mass\", \"width\", \"height\", \"color_score\", \"fruit_name\"]], hue = \"fruit_name\")\n",
    "plt.show()"
   ]
  },
  {
   "cell_type": "markdown",
   "id": "c1626c5b",
   "metadata": {},
   "source": [
    "**Plotting a 3D scatter plot**"
   ]
  },
  {
   "cell_type": "code",
   "execution_count": 8,
   "id": "4c61b7f6",
   "metadata": {},
   "outputs": [
    {
     "data": {
      "image/png": "[encoded data removed]",
      "text/plain": [
       "<Figure size 1296x504 with 1 Axes>"
      ]
     },
     "metadata": {
      "needs_background": "light"
     },
     "output_type": "display_data"
    }
   ],
   "source": [
    "from mpl_toolkits.mplot3d import Axes3D\n",
    "fig = plt.figure(figsize = (18, 7))\n",
    "ax = fig.add_subplot(111, projection = '3d')\n",
    "ax.scatter(df['width'], df['height'], df['color_score'], c = df[\"fruit_label\"], marker = 'o', s=100)\n",
    "ax.set_xlabel('width')\n",
    "ax.set_ylabel('height')\n",
    "ax.set_zlabel('color_score')\n",
    "plt.show()"
   ]
  },
  {
   "cell_type": "markdown",
   "id": "140226ec",
   "metadata": {},
   "source": [
    "### Find Best Neighbors"
   ]
  },
  {
   "cell_type": "code",
   "execution_count": 9,
   "id": "0fec5bf3",
   "metadata": {},
   "outputs": [
    {
     "data": {
      "text/plain": [
       "[0.75,\n",
       " 0.75,\n",
       " 0.75,\n",
       " 0.75,\n",
       " 0.5833333333333334,\n",
       " 0.5833333333333334,\n",
       " 0.5833333333333334,\n",
       " 0.6666666666666666,\n",
       " 0.6666666666666666]"
      ]
     },
     "execution_count": 9,
     "metadata": {},
     "output_type": "execute_result"
    }
   ],
   "source": [
    "score = []\n",
    "for x in range(1, 10):\n",
    "    knn = KNeighborsClassifier(n_neighbors = x)\n",
    "    knn.fit(X_train, y_train)\n",
    "    pred = knn.predict(X_test)\n",
    "    accuracy = accuracy_score(y_test, pred)\n",
    "    score.append(accuracy)\n",
    "score"
   ]
  },
  {
   "cell_type": "markdown",
   "id": "0e7e1f74",
   "metadata": {},
   "source": [
    "### Perform K Neighbors Classification"
   ]
  },
  {
   "cell_type": "code",
   "execution_count": 10,
   "id": "8f628e62",
   "metadata": {},
   "outputs": [
    {
     "data": {
      "text/html": [
       "<div>\n",
       "<style scoped>\n",
       "    .dataframe tbody tr th:only-of-type {\n",
       "        vertical-align: middle;\n",
       "    }\n",
       "\n",
       "    .dataframe tbody tr th {\n",
       "        vertical-align: top;\n",
       "    }\n",
       "\n",
       "    .dataframe thead th {\n",
       "        text-align: right;\n",
       "    }\n",
       "</style>\n",
       "<table border=\"1\" class=\"dataframe\">\n",
       "  <thead>\n",
       "    <tr style=\"text-align: right;\">\n",
       "      <th></th>\n",
       "      <th>Actual</th>\n",
       "      <th>Predicted</th>\n",
       "    </tr>\n",
       "  </thead>\n",
       "  <tbody>\n",
       "    <tr>\n",
       "      <th>31</th>\n",
       "      <td>3</td>\n",
       "      <td>4</td>\n",
       "    </tr>\n",
       "    <tr>\n",
       "      <th>3</th>\n",
       "      <td>2</td>\n",
       "      <td>2</td>\n",
       "    </tr>\n",
       "    <tr>\n",
       "      <th>38</th>\n",
       "      <td>3</td>\n",
       "      <td>3</td>\n",
       "    </tr>\n",
       "    <tr>\n",
       "      <th>27</th>\n",
       "      <td>3</td>\n",
       "      <td>4</td>\n",
       "    </tr>\n",
       "    <tr>\n",
       "      <th>21</th>\n",
       "      <td>1</td>\n",
       "      <td>1</td>\n",
       "    </tr>\n",
       "    <tr>\n",
       "      <th>17</th>\n",
       "      <td>1</td>\n",
       "      <td>1</td>\n",
       "    </tr>\n",
       "    <tr>\n",
       "      <th>46</th>\n",
       "      <td>4</td>\n",
       "      <td>4</td>\n",
       "    </tr>\n",
       "    <tr>\n",
       "      <th>2</th>\n",
       "      <td>1</td>\n",
       "      <td>1</td>\n",
       "    </tr>\n",
       "    <tr>\n",
       "      <th>23</th>\n",
       "      <td>1</td>\n",
       "      <td>1</td>\n",
       "    </tr>\n",
       "    <tr>\n",
       "      <th>26</th>\n",
       "      <td>3</td>\n",
       "      <td>3</td>\n",
       "    </tr>\n",
       "    <tr>\n",
       "      <th>35</th>\n",
       "      <td>3</td>\n",
       "      <td>1</td>\n",
       "    </tr>\n",
       "    <tr>\n",
       "      <th>39</th>\n",
       "      <td>3</td>\n",
       "      <td>3</td>\n",
       "    </tr>\n",
       "  </tbody>\n",
       "</table>\n",
       "</div>"
      ],
      "text/plain": [
       "    Actual  Predicted\n",
       "31       3          4\n",
       "3        2          2\n",
       "38       3          3\n",
       "27       3          4\n",
       "21       1          1\n",
       "17       1          1\n",
       "46       4          4\n",
       "2        1          1\n",
       "23       1          1\n",
       "26       3          3\n",
       "35       3          1\n",
       "39       3          3"
      ]
     },
     "execution_count": 10,
     "metadata": {},
     "output_type": "execute_result"
    }
   ],
   "source": [
    "knn = KNeighborsClassifier(n_neighbors = 3)\n",
    "\n",
    "knn.fit(X_train, y_train)\n",
    "\n",
    "pred_knn = knn.predict(X_test)\n",
    "pd.DataFrame({\"Actual\": y_test,\n",
    "              \"Predicted\": pred_knn})"
   ]
  },
  {
   "cell_type": "markdown",
   "id": "a8ad36ea",
   "metadata": {},
   "source": [
    "**Accuracy Score**"
   ]
  },
  {
   "cell_type": "code",
   "execution_count": 11,
   "id": "99d85ac9",
   "metadata": {},
   "outputs": [
    {
     "data": {
      "text/plain": [
       "0.75"
      ]
     },
     "execution_count": 11,
     "metadata": {},
     "output_type": "execute_result"
    }
   ],
   "source": [
    "score = accuracy_score(y_test, pred_knn)\n",
    "score"
   ]
  },
  {
   "cell_type": "markdown",
   "id": "8d735144",
   "metadata": {},
   "source": [
    "**Custom Prediction**"
   ]
  },
  {
   "cell_type": "code",
   "execution_count": 12,
   "id": "4b72a2df",
   "metadata": {},
   "outputs": [
    {
     "data": {
      "text/plain": [
       "'lemon'"
      ]
     },
     "execution_count": 12,
     "metadata": {},
     "output_type": "execute_result"
    }
   ],
   "source": [
    "prediction = knn.predict([[110, 8.85, 5.94, 0.78]])\n",
    "label_fruit[prediction[0]]"
   ]
  },
  {
   "cell_type": "code",
   "execution_count": 13,
   "id": "d7b6a464",
   "metadata": {},
   "outputs": [
    {
     "data": {
      "text/plain": [
       "'orange'"
      ]
     },
     "execution_count": 13,
     "metadata": {},
     "output_type": "execute_result"
    }
   ],
   "source": [
    "prediction2 = knn.predict([[140, 6.51, 4.38, 0.77]])\n",
    "label_fruit[prediction2[0]]"
   ]
  },
  {
   "cell_type": "markdown",
   "id": "dd0f7698",
   "metadata": {},
   "source": [
    "### Breast Cancer"
   ]
  },
  {
   "cell_type": "code",
   "execution_count": 14,
   "id": "95e1f986",
   "metadata": {},
   "outputs": [],
   "source": [
    "from sklearn.datasets import load_breast_cancer\n",
    "cancer = load_breast_cancer()"
   ]
  },
  {
   "cell_type": "markdown",
   "id": "cfb34906",
   "metadata": {},
   "source": [
    "**Prepare DataFrame**"
   ]
  },
  {
   "cell_type": "code",
   "execution_count": 15,
   "id": "0be25e66",
   "metadata": {},
   "outputs": [
    {
     "data": {
      "text/html": [
       "<div>\n",
       "<style scoped>\n",
       "    .dataframe tbody tr th:only-of-type {\n",
       "        vertical-align: middle;\n",
       "    }\n",
       "\n",
       "    .dataframe tbody tr th {\n",
       "        vertical-align: top;\n",
       "    }\n",
       "\n",
       "    .dataframe thead th {\n",
       "        text-align: right;\n",
       "    }\n",
       "</style>\n",
       "<table border=\"1\" class=\"dataframe\">\n",
       "  <thead>\n",
       "    <tr style=\"text-align: right;\">\n",
       "      <th></th>\n",
       "      <th>mean radius</th>\n",
       "      <th>mean texture</th>\n",
       "      <th>mean perimeter</th>\n",
       "      <th>mean area</th>\n",
       "      <th>mean smoothness</th>\n",
       "      <th>mean compactness</th>\n",
       "      <th>mean concavity</th>\n",
       "      <th>mean concave points</th>\n",
       "      <th>mean symmetry</th>\n",
       "      <th>mean fractal dimension</th>\n",
       "      <th>...</th>\n",
       "      <th>worst texture</th>\n",
       "      <th>worst perimeter</th>\n",
       "      <th>worst area</th>\n",
       "      <th>worst smoothness</th>\n",
       "      <th>worst compactness</th>\n",
       "      <th>worst concavity</th>\n",
       "      <th>worst concave points</th>\n",
       "      <th>worst symmetry</th>\n",
       "      <th>worst fractal dimension</th>\n",
       "      <th>Target</th>\n",
       "    </tr>\n",
       "  </thead>\n",
       "  <tbody>\n",
       "    <tr>\n",
       "      <th>487</th>\n",
       "      <td>19.440</td>\n",
       "      <td>18.82</td>\n",
       "      <td>128.10</td>\n",
       "      <td>1167.0</td>\n",
       "      <td>0.10890</td>\n",
       "      <td>0.14480</td>\n",
       "      <td>0.22560</td>\n",
       "      <td>0.119400</td>\n",
       "      <td>0.1823</td>\n",
       "      <td>0.06115</td>\n",
       "      <td>...</td>\n",
       "      <td>30.39</td>\n",
       "      <td>153.9</td>\n",
       "      <td>1740.0</td>\n",
       "      <td>0.1514</td>\n",
       "      <td>0.3725</td>\n",
       "      <td>0.5936</td>\n",
       "      <td>0.20600</td>\n",
       "      <td>0.3266</td>\n",
       "      <td>0.09009</td>\n",
       "      <td>0</td>\n",
       "    </tr>\n",
       "    <tr>\n",
       "      <th>372</th>\n",
       "      <td>21.370</td>\n",
       "      <td>15.10</td>\n",
       "      <td>141.30</td>\n",
       "      <td>1386.0</td>\n",
       "      <td>0.10010</td>\n",
       "      <td>0.15150</td>\n",
       "      <td>0.19320</td>\n",
       "      <td>0.125500</td>\n",
       "      <td>0.1973</td>\n",
       "      <td>0.06183</td>\n",
       "      <td>...</td>\n",
       "      <td>21.84</td>\n",
       "      <td>152.1</td>\n",
       "      <td>1535.0</td>\n",
       "      <td>0.1192</td>\n",
       "      <td>0.2840</td>\n",
       "      <td>0.4024</td>\n",
       "      <td>0.19660</td>\n",
       "      <td>0.2730</td>\n",
       "      <td>0.08666</td>\n",
       "      <td>0</td>\n",
       "    </tr>\n",
       "    <tr>\n",
       "      <th>447</th>\n",
       "      <td>14.800</td>\n",
       "      <td>17.66</td>\n",
       "      <td>95.88</td>\n",
       "      <td>674.8</td>\n",
       "      <td>0.09179</td>\n",
       "      <td>0.08890</td>\n",
       "      <td>0.04069</td>\n",
       "      <td>0.022600</td>\n",
       "      <td>0.1893</td>\n",
       "      <td>0.05886</td>\n",
       "      <td>...</td>\n",
       "      <td>22.74</td>\n",
       "      <td>105.9</td>\n",
       "      <td>829.5</td>\n",
       "      <td>0.1226</td>\n",
       "      <td>0.1881</td>\n",
       "      <td>0.2060</td>\n",
       "      <td>0.08308</td>\n",
       "      <td>0.3600</td>\n",
       "      <td>0.07285</td>\n",
       "      <td>1</td>\n",
       "    </tr>\n",
       "    <tr>\n",
       "      <th>532</th>\n",
       "      <td>13.680</td>\n",
       "      <td>16.33</td>\n",
       "      <td>87.76</td>\n",
       "      <td>575.5</td>\n",
       "      <td>0.09277</td>\n",
       "      <td>0.07255</td>\n",
       "      <td>0.01752</td>\n",
       "      <td>0.018800</td>\n",
       "      <td>0.1631</td>\n",
       "      <td>0.06155</td>\n",
       "      <td>...</td>\n",
       "      <td>20.20</td>\n",
       "      <td>101.6</td>\n",
       "      <td>773.4</td>\n",
       "      <td>0.1264</td>\n",
       "      <td>0.1564</td>\n",
       "      <td>0.1206</td>\n",
       "      <td>0.08704</td>\n",
       "      <td>0.2806</td>\n",
       "      <td>0.07782</td>\n",
       "      <td>1</td>\n",
       "    </tr>\n",
       "    <tr>\n",
       "      <th>59</th>\n",
       "      <td>8.618</td>\n",
       "      <td>11.79</td>\n",
       "      <td>54.34</td>\n",
       "      <td>224.5</td>\n",
       "      <td>0.09752</td>\n",
       "      <td>0.05272</td>\n",
       "      <td>0.02061</td>\n",
       "      <td>0.007799</td>\n",
       "      <td>0.1683</td>\n",
       "      <td>0.07187</td>\n",
       "      <td>...</td>\n",
       "      <td>15.40</td>\n",
       "      <td>59.9</td>\n",
       "      <td>274.9</td>\n",
       "      <td>0.1733</td>\n",
       "      <td>0.1239</td>\n",
       "      <td>0.1168</td>\n",
       "      <td>0.04419</td>\n",
       "      <td>0.3220</td>\n",
       "      <td>0.09026</td>\n",
       "      <td>1</td>\n",
       "    </tr>\n",
       "  </tbody>\n",
       "</table>\n",
       "<p>5 rows × 31 columns</p>\n",
       "</div>"
      ],
      "text/plain": [
       "     mean radius  mean texture  mean perimeter  mean area  mean smoothness  \\\n",
       "487       19.440         18.82          128.10     1167.0          0.10890   \n",
       "372       21.370         15.10          141.30     1386.0          0.10010   \n",
       "447       14.800         17.66           95.88      674.8          0.09179   \n",
       "532       13.680         16.33           87.76      575.5          0.09277   \n",
       "59         8.618         11.79           54.34      224.5          0.09752   \n",
       "\n",
       "     mean compactness  mean concavity  mean concave points  mean symmetry  \\\n",
       "487           0.14480         0.22560             0.119400         0.1823   \n",
       "372           0.15150         0.19320             0.125500         0.1973   \n",
       "447           0.08890         0.04069             0.022600         0.1893   \n",
       "532           0.07255         0.01752             0.018800         0.1631   \n",
       "59            0.05272         0.02061             0.007799         0.1683   \n",
       "\n",
       "     mean fractal dimension  ...  worst texture  worst perimeter  worst area  \\\n",
       "487                 0.06115  ...          30.39            153.9      1740.0   \n",
       "372                 0.06183  ...          21.84            152.1      1535.0   \n",
       "447                 0.05886  ...          22.74            105.9       829.5   \n",
       "532                 0.06155  ...          20.20            101.6       773.4   \n",
       "59                  0.07187  ...          15.40             59.9       274.9   \n",
       "\n",
       "     worst smoothness  worst compactness  worst concavity  \\\n",
       "487            0.1514             0.3725           0.5936   \n",
       "372            0.1192             0.2840           0.4024   \n",
       "447            0.1226             0.1881           0.2060   \n",
       "532            0.1264             0.1564           0.1206   \n",
       "59             0.1733             0.1239           0.1168   \n",
       "\n",
       "     worst concave points  worst symmetry  worst fractal dimension  Target  \n",
       "487               0.20600          0.3266                  0.09009       0  \n",
       "372               0.19660          0.2730                  0.08666       0  \n",
       "447               0.08308          0.3600                  0.07285       1  \n",
       "532               0.08704          0.2806                  0.07782       1  \n",
       "59                0.04419          0.3220                  0.09026       1  \n",
       "\n",
       "[5 rows x 31 columns]"
      ]
     },
     "execution_count": 15,
     "metadata": {},
     "output_type": "execute_result"
    }
   ],
   "source": [
    "# Features\n",
    "features = pd.DataFrame(cancer.data, columns = cancer.feature_names)\n",
    "\n",
    "# Target\n",
    "target = pd.DataFrame({\"Target\": cancer.target})\n",
    "\n",
    "# DataFrame\n",
    "dataframe = pd.concat([features, target], axis = 1)\n",
    "dataframe.sample(5)"
   ]
  },
  {
   "cell_type": "markdown",
   "id": "f6dee476",
   "metadata": {},
   "source": [
    "**Check Cancer Classes**"
   ]
  },
  {
   "cell_type": "code",
   "execution_count": 16,
   "id": "00058bb2",
   "metadata": {},
   "outputs": [
    {
     "data": {
      "text/plain": [
       "malignant    212\n",
       "bengin       357\n",
       "dtype: int64"
      ]
     },
     "execution_count": 16,
     "metadata": {},
     "output_type": "execute_result"
    }
   ],
   "source": [
    "malignant = len(dataframe[dataframe[\"Target\"] == 0])\n",
    "bengin = len(dataframe[dataframe[\"Target\"] == 1])\n",
    "\n",
    "tc = pd.Series([malignant, bengin], index = [\"malignant\", \"bengin\"])\n",
    "tc"
   ]
  },
  {
   "cell_type": "markdown",
   "id": "1b918247",
   "metadata": {},
   "source": [
    "**Extract Features and Target**"
   ]
  },
  {
   "cell_type": "code",
   "execution_count": 17,
   "id": "e12d4d9b",
   "metadata": {},
   "outputs": [],
   "source": [
    "# Features\n",
    "X = dataframe[dataframe.columns.drop(\"Target\")]\n",
    "\n",
    "y = dataframe[\"Target\"]"
   ]
  },
  {
   "cell_type": "markdown",
   "id": "825115c3",
   "metadata": {},
   "source": [
    "**Split Data into training and test set**"
   ]
  },
  {
   "cell_type": "code",
   "execution_count": 18,
   "id": "17a00b7e",
   "metadata": {},
   "outputs": [],
   "source": [
    "X_train, X_test, y_train, y_test = train_test_split(X,\n",
    "                                                    y,\n",
    "                                                    test_size = 0.2,\n",
    "                                                    random_state = 0)"
   ]
  },
  {
   "cell_type": "markdown",
   "id": "622dd9b1",
   "metadata": {},
   "source": [
    "### Find n_neighbers for Better Accuracy"
   ]
  },
  {
   "cell_type": "code",
   "execution_count": 19,
   "id": "4d63b5a4",
   "metadata": {},
   "outputs": [
    {
     "data": {
      "text/plain": [
       "{1: 0.9122807017543859,\n",
       " 2: 0.8947368421052632,\n",
       " 3: 0.9122807017543859,\n",
       " 4: 0.9210526315789473,\n",
       " 5: 0.9385964912280702,\n",
       " 6: 0.9385964912280702,\n",
       " 7: 0.9473684210526315,\n",
       " 8: 0.9473684210526315,\n",
       " 9: 0.9649122807017544}"
      ]
     },
     "execution_count": 19,
     "metadata": {},
     "output_type": "execute_result"
    }
   ],
   "source": [
    "score_knn = {}\n",
    "for x in range(1, 10):\n",
    "    knn_b = KNeighborsClassifier(n_neighbors = x)\n",
    "    knn_b.fit(X_train, y_train)\n",
    "    pred_knn = knn_b.predict(X_test)\n",
    "    accuracy_b = accuracy_score(y_test, pred_knn)\n",
    "    \n",
    "    score_knn[x] = accuracy_b\n",
    "\n",
    "score_knn"
   ]
  },
  {
   "cell_type": "markdown",
   "id": "c337ad95",
   "metadata": {},
   "source": [
    "**Actual and Predicted values output**"
   ]
  },
  {
   "cell_type": "code",
   "execution_count": 20,
   "id": "156f93a9",
   "metadata": {},
   "outputs": [
    {
     "data": {
      "text/html": [
       "<div>\n",
       "<style scoped>\n",
       "    .dataframe tbody tr th:only-of-type {\n",
       "        vertical-align: middle;\n",
       "    }\n",
       "\n",
       "    .dataframe tbody tr th {\n",
       "        vertical-align: top;\n",
       "    }\n",
       "\n",
       "    .dataframe thead th {\n",
       "        text-align: right;\n",
       "    }\n",
       "</style>\n",
       "<table border=\"1\" class=\"dataframe\">\n",
       "  <thead>\n",
       "    <tr style=\"text-align: right;\">\n",
       "      <th></th>\n",
       "      <th>Actual</th>\n",
       "      <th>Predicted</th>\n",
       "    </tr>\n",
       "  </thead>\n",
       "  <tbody>\n",
       "    <tr>\n",
       "      <th>512</th>\n",
       "      <td>0</td>\n",
       "      <td>0</td>\n",
       "    </tr>\n",
       "    <tr>\n",
       "      <th>421</th>\n",
       "      <td>1</td>\n",
       "      <td>1</td>\n",
       "    </tr>\n",
       "    <tr>\n",
       "      <th>31</th>\n",
       "      <td>0</td>\n",
       "      <td>0</td>\n",
       "    </tr>\n",
       "    <tr>\n",
       "      <th>179</th>\n",
       "      <td>1</td>\n",
       "      <td>1</td>\n",
       "    </tr>\n",
       "    <tr>\n",
       "      <th>414</th>\n",
       "      <td>0</td>\n",
       "      <td>0</td>\n",
       "    </tr>\n",
       "    <tr>\n",
       "      <th>12</th>\n",
       "      <td>0</td>\n",
       "      <td>0</td>\n",
       "    </tr>\n",
       "    <tr>\n",
       "      <th>196</th>\n",
       "      <td>0</td>\n",
       "      <td>0</td>\n",
       "    </tr>\n",
       "    <tr>\n",
       "      <th>340</th>\n",
       "      <td>1</td>\n",
       "      <td>1</td>\n",
       "    </tr>\n",
       "    <tr>\n",
       "      <th>566</th>\n",
       "      <td>0</td>\n",
       "      <td>0</td>\n",
       "    </tr>\n",
       "    <tr>\n",
       "      <th>21</th>\n",
       "      <td>1</td>\n",
       "      <td>1</td>\n",
       "    </tr>\n",
       "    <tr>\n",
       "      <th>71</th>\n",
       "      <td>1</td>\n",
       "      <td>1</td>\n",
       "    </tr>\n",
       "    <tr>\n",
       "      <th>519</th>\n",
       "      <td>1</td>\n",
       "      <td>1</td>\n",
       "    </tr>\n",
       "  </tbody>\n",
       "</table>\n",
       "</div>"
      ],
      "text/plain": [
       "     Actual  Predicted\n",
       "512       0          0\n",
       "421       1          1\n",
       "31        0          0\n",
       "179       1          1\n",
       "414       0          0\n",
       "12        0          0\n",
       "196       0          0\n",
       "340       1          1\n",
       "566       0          0\n",
       "21        1          1\n",
       "71        1          1\n",
       "519       1          1"
      ]
     },
     "execution_count": 20,
     "metadata": {},
     "output_type": "execute_result"
    }
   ],
   "source": [
    "knn = KNeighborsClassifier(n_neighbors = 9)\n",
    "\n",
    "knn.fit(X_train, y_train)\n",
    "\n",
    "pred_k = knn.predict(X_test)\n",
    "pd.DataFrame({\"Actual\": y_test,\n",
    "              \"Predicted\": pred_k})[::10]"
   ]
  },
  {
   "cell_type": "markdown",
   "id": "165df635",
   "metadata": {},
   "source": [
    "**Actual and Predicted values graph**"
   ]
  },
  {
   "cell_type": "code",
   "execution_count": 21,
   "id": "02a8d770",
   "metadata": {},
   "outputs": [
    {
     "data": {
      "image/png": "[encoded data removed]",
      "text/plain": [
       "<Figure size 1368x504 with 1 Axes>"
      ]
     },
     "metadata": {
      "needs_background": "light"
     },
     "output_type": "display_data"
    }
   ],
   "source": [
    "plt.figure(figsize = (19, 7))\n",
    "sns.kdeplot(x = y_test, label = \"Actual\", linewidth = 3, color = \"pink\")\n",
    "sns.kdeplot(x = pred_k, label = \"Predicted\", linewidth = 3, color = \"red\")\n",
    "plt.title(\"Actual and Predicted Cancer Symptoms\", size = 20, color = \"blue\")\n",
    "plt.xlabel(\"Outcome\", size = 20, color = \"blue\")\n",
    "plt.ylabel(\"Density\", size = 20, color = \"blue\")\n",
    "plt.xticks(size = 15)\n",
    "plt.yticks(size = 15)\n",
    "plt.legend(prop={'size': 15})\n",
    "plt.show()"
   ]
  },
  {
   "cell_type": "markdown",
   "id": "49a26c17",
   "metadata": {},
   "source": [
    "### Mashroom Classification"
   ]
  },
  {
   "cell_type": "code",
   "execution_count": 22,
   "id": "a73803b0",
   "metadata": {},
   "outputs": [
    {
     "data": {
      "text/html": [
       "<div>\n",
       "<style scoped>\n",
       "    .dataframe tbody tr th:only-of-type {\n",
       "        vertical-align: middle;\n",
       "    }\n",
       "\n",
       "    .dataframe tbody tr th {\n",
       "        vertical-align: top;\n",
       "    }\n",
       "\n",
       "    .dataframe thead th {\n",
       "        text-align: right;\n",
       "    }\n",
       "</style>\n",
       "<table border=\"1\" class=\"dataframe\">\n",
       "  <thead>\n",
       "    <tr style=\"text-align: right;\">\n",
       "      <th></th>\n",
       "      <th>class</th>\n",
       "      <th>cap-shape</th>\n",
       "      <th>cap-surface</th>\n",
       "      <th>cap-color</th>\n",
       "      <th>bruises</th>\n",
       "      <th>odor</th>\n",
       "      <th>gill-attachment</th>\n",
       "      <th>gill-spacing</th>\n",
       "      <th>gill-size</th>\n",
       "      <th>gill-color</th>\n",
       "      <th>...</th>\n",
       "      <th>stalk-surface-below-ring</th>\n",
       "      <th>stalk-color-above-ring</th>\n",
       "      <th>stalk-color-below-ring</th>\n",
       "      <th>veil-type</th>\n",
       "      <th>veil-color</th>\n",
       "      <th>ring-number</th>\n",
       "      <th>ring-type</th>\n",
       "      <th>spore-print-color</th>\n",
       "      <th>population</th>\n",
       "      <th>habitat</th>\n",
       "    </tr>\n",
       "  </thead>\n",
       "  <tbody>\n",
       "    <tr>\n",
       "      <th>70</th>\n",
       "      <td>e</td>\n",
       "      <td>f</td>\n",
       "      <td>f</td>\n",
       "      <td>y</td>\n",
       "      <td>t</td>\n",
       "      <td>l</td>\n",
       "      <td>f</td>\n",
       "      <td>w</td>\n",
       "      <td>n</td>\n",
       "      <td>p</td>\n",
       "      <td>...</td>\n",
       "      <td>s</td>\n",
       "      <td>w</td>\n",
       "      <td>w</td>\n",
       "      <td>p</td>\n",
       "      <td>w</td>\n",
       "      <td>o</td>\n",
       "      <td>p</td>\n",
       "      <td>n</td>\n",
       "      <td>v</td>\n",
       "      <td>d</td>\n",
       "    </tr>\n",
       "    <tr>\n",
       "      <th>6210</th>\n",
       "      <td>p</td>\n",
       "      <td>f</td>\n",
       "      <td>y</td>\n",
       "      <td>e</td>\n",
       "      <td>f</td>\n",
       "      <td>f</td>\n",
       "      <td>f</td>\n",
       "      <td>c</td>\n",
       "      <td>n</td>\n",
       "      <td>b</td>\n",
       "      <td>...</td>\n",
       "      <td>k</td>\n",
       "      <td>p</td>\n",
       "      <td>w</td>\n",
       "      <td>p</td>\n",
       "      <td>w</td>\n",
       "      <td>o</td>\n",
       "      <td>e</td>\n",
       "      <td>w</td>\n",
       "      <td>v</td>\n",
       "      <td>p</td>\n",
       "    </tr>\n",
       "    <tr>\n",
       "      <th>2708</th>\n",
       "      <td>e</td>\n",
       "      <td>x</td>\n",
       "      <td>y</td>\n",
       "      <td>n</td>\n",
       "      <td>t</td>\n",
       "      <td>n</td>\n",
       "      <td>f</td>\n",
       "      <td>c</td>\n",
       "      <td>b</td>\n",
       "      <td>n</td>\n",
       "      <td>...</td>\n",
       "      <td>s</td>\n",
       "      <td>p</td>\n",
       "      <td>g</td>\n",
       "      <td>p</td>\n",
       "      <td>w</td>\n",
       "      <td>o</td>\n",
       "      <td>p</td>\n",
       "      <td>k</td>\n",
       "      <td>y</td>\n",
       "      <td>d</td>\n",
       "    </tr>\n",
       "    <tr>\n",
       "      <th>4683</th>\n",
       "      <td>p</td>\n",
       "      <td>f</td>\n",
       "      <td>f</td>\n",
       "      <td>y</td>\n",
       "      <td>f</td>\n",
       "      <td>f</td>\n",
       "      <td>f</td>\n",
       "      <td>c</td>\n",
       "      <td>b</td>\n",
       "      <td>g</td>\n",
       "      <td>...</td>\n",
       "      <td>k</td>\n",
       "      <td>n</td>\n",
       "      <td>p</td>\n",
       "      <td>p</td>\n",
       "      <td>w</td>\n",
       "      <td>o</td>\n",
       "      <td>l</td>\n",
       "      <td>h</td>\n",
       "      <td>y</td>\n",
       "      <td>p</td>\n",
       "    </tr>\n",
       "    <tr>\n",
       "      <th>3687</th>\n",
       "      <td>p</td>\n",
       "      <td>x</td>\n",
       "      <td>f</td>\n",
       "      <td>w</td>\n",
       "      <td>f</td>\n",
       "      <td>c</td>\n",
       "      <td>f</td>\n",
       "      <td>c</td>\n",
       "      <td>n</td>\n",
       "      <td>n</td>\n",
       "      <td>...</td>\n",
       "      <td>s</td>\n",
       "      <td>w</td>\n",
       "      <td>w</td>\n",
       "      <td>p</td>\n",
       "      <td>w</td>\n",
       "      <td>o</td>\n",
       "      <td>p</td>\n",
       "      <td>n</td>\n",
       "      <td>s</td>\n",
       "      <td>d</td>\n",
       "    </tr>\n",
       "  </tbody>\n",
       "</table>\n",
       "<p>5 rows × 23 columns</p>\n",
       "</div>"
      ],
      "text/plain": [
       "     class cap-shape cap-surface cap-color bruises odor gill-attachment  \\\n",
       "70       e         f           f         y       t    l               f   \n",
       "6210     p         f           y         e       f    f               f   \n",
       "2708     e         x           y         n       t    n               f   \n",
       "4683     p         f           f         y       f    f               f   \n",
       "3687     p         x           f         w       f    c               f   \n",
       "\n",
       "     gill-spacing gill-size gill-color  ... stalk-surface-below-ring  \\\n",
       "70              w         n          p  ...                        s   \n",
       "6210            c         n          b  ...                        k   \n",
       "2708            c         b          n  ...                        s   \n",
       "4683            c         b          g  ...                        k   \n",
       "3687            c         n          n  ...                        s   \n",
       "\n",
       "     stalk-color-above-ring stalk-color-below-ring veil-type veil-color  \\\n",
       "70                        w                      w         p          w   \n",
       "6210                      p                      w         p          w   \n",
       "2708                      p                      g         p          w   \n",
       "4683                      n                      p         p          w   \n",
       "3687                      w                      w         p          w   \n",
       "\n",
       "     ring-number ring-type spore-print-color population habitat  \n",
       "70             o         p                 n          v       d  \n",
       "6210           o         e                 w          v       p  \n",
       "2708           o         p                 k          y       d  \n",
       "4683           o         l                 h          y       p  \n",
       "3687           o         p                 n          s       d  \n",
       "\n",
       "[5 rows x 23 columns]"
      ]
     },
     "execution_count": 22,
     "metadata": {},
     "output_type": "execute_result"
    }
   ],
   "source": [
    "df = pd.read_csv(\"mashrooms.csv\")\n",
    "df.sample(5)"
   ]
  },
  {
   "cell_type": "markdown",
   "id": "c77e71d6",
   "metadata": {},
   "source": [
    "**Define features and target**"
   ]
  },
  {
   "cell_type": "code",
   "execution_count": 23,
   "id": "1f8734b5",
   "metadata": {},
   "outputs": [],
   "source": [
    "# Features\n",
    "X = df[df.columns.drop(\"class\")]\n",
    "\n",
    "# Target\n",
    "y = df[\"class\"]"
   ]
  },
  {
   "cell_type": "markdown",
   "id": "5df00a48",
   "metadata": {},
   "source": [
    "**Get dummy variables**"
   ]
  },
  {
   "cell_type": "code",
   "execution_count": 24,
   "id": "0a1ddd72",
   "metadata": {},
   "outputs": [
    {
     "data": {
      "text/html": [
       "<div>\n",
       "<style scoped>\n",
       "    .dataframe tbody tr th:only-of-type {\n",
       "        vertical-align: middle;\n",
       "    }\n",
       "\n",
       "    .dataframe tbody tr th {\n",
       "        vertical-align: top;\n",
       "    }\n",
       "\n",
       "    .dataframe thead th {\n",
       "        text-align: right;\n",
       "    }\n",
       "</style>\n",
       "<table border=\"1\" class=\"dataframe\">\n",
       "  <thead>\n",
       "    <tr style=\"text-align: right;\">\n",
       "      <th></th>\n",
       "      <th>cap-shape_b</th>\n",
       "      <th>cap-shape_c</th>\n",
       "      <th>cap-shape_f</th>\n",
       "      <th>cap-shape_k</th>\n",
       "      <th>cap-shape_s</th>\n",
       "      <th>cap-shape_x</th>\n",
       "      <th>cap-surface_f</th>\n",
       "      <th>cap-surface_g</th>\n",
       "      <th>cap-surface_s</th>\n",
       "      <th>cap-surface_y</th>\n",
       "      <th>...</th>\n",
       "      <th>population_s</th>\n",
       "      <th>population_v</th>\n",
       "      <th>population_y</th>\n",
       "      <th>habitat_d</th>\n",
       "      <th>habitat_g</th>\n",
       "      <th>habitat_l</th>\n",
       "      <th>habitat_m</th>\n",
       "      <th>habitat_p</th>\n",
       "      <th>habitat_u</th>\n",
       "      <th>habitat_w</th>\n",
       "    </tr>\n",
       "  </thead>\n",
       "  <tbody>\n",
       "    <tr>\n",
       "      <th>5641</th>\n",
       "      <td>0</td>\n",
       "      <td>0</td>\n",
       "      <td>1</td>\n",
       "      <td>0</td>\n",
       "      <td>0</td>\n",
       "      <td>0</td>\n",
       "      <td>0</td>\n",
       "      <td>0</td>\n",
       "      <td>0</td>\n",
       "      <td>1</td>\n",
       "      <td>...</td>\n",
       "      <td>0</td>\n",
       "      <td>1</td>\n",
       "      <td>0</td>\n",
       "      <td>1</td>\n",
       "      <td>0</td>\n",
       "      <td>0</td>\n",
       "      <td>0</td>\n",
       "      <td>0</td>\n",
       "      <td>0</td>\n",
       "      <td>0</td>\n",
       "    </tr>\n",
       "    <tr>\n",
       "      <th>2660</th>\n",
       "      <td>0</td>\n",
       "      <td>0</td>\n",
       "      <td>0</td>\n",
       "      <td>0</td>\n",
       "      <td>0</td>\n",
       "      <td>1</td>\n",
       "      <td>1</td>\n",
       "      <td>0</td>\n",
       "      <td>0</td>\n",
       "      <td>0</td>\n",
       "      <td>...</td>\n",
       "      <td>0</td>\n",
       "      <td>1</td>\n",
       "      <td>0</td>\n",
       "      <td>1</td>\n",
       "      <td>0</td>\n",
       "      <td>0</td>\n",
       "      <td>0</td>\n",
       "      <td>0</td>\n",
       "      <td>0</td>\n",
       "      <td>0</td>\n",
       "    </tr>\n",
       "    <tr>\n",
       "      <th>1630</th>\n",
       "      <td>0</td>\n",
       "      <td>0</td>\n",
       "      <td>1</td>\n",
       "      <td>0</td>\n",
       "      <td>0</td>\n",
       "      <td>0</td>\n",
       "      <td>0</td>\n",
       "      <td>0</td>\n",
       "      <td>1</td>\n",
       "      <td>0</td>\n",
       "      <td>...</td>\n",
       "      <td>1</td>\n",
       "      <td>0</td>\n",
       "      <td>0</td>\n",
       "      <td>0</td>\n",
       "      <td>0</td>\n",
       "      <td>0</td>\n",
       "      <td>0</td>\n",
       "      <td>0</td>\n",
       "      <td>1</td>\n",
       "      <td>0</td>\n",
       "    </tr>\n",
       "    <tr>\n",
       "      <th>2352</th>\n",
       "      <td>0</td>\n",
       "      <td>0</td>\n",
       "      <td>0</td>\n",
       "      <td>0</td>\n",
       "      <td>0</td>\n",
       "      <td>1</td>\n",
       "      <td>0</td>\n",
       "      <td>0</td>\n",
       "      <td>0</td>\n",
       "      <td>1</td>\n",
       "      <td>...</td>\n",
       "      <td>0</td>\n",
       "      <td>1</td>\n",
       "      <td>0</td>\n",
       "      <td>1</td>\n",
       "      <td>0</td>\n",
       "      <td>0</td>\n",
       "      <td>0</td>\n",
       "      <td>0</td>\n",
       "      <td>0</td>\n",
       "      <td>0</td>\n",
       "    </tr>\n",
       "    <tr>\n",
       "      <th>8062</th>\n",
       "      <td>0</td>\n",
       "      <td>0</td>\n",
       "      <td>0</td>\n",
       "      <td>1</td>\n",
       "      <td>0</td>\n",
       "      <td>0</td>\n",
       "      <td>0</td>\n",
       "      <td>0</td>\n",
       "      <td>0</td>\n",
       "      <td>1</td>\n",
       "      <td>...</td>\n",
       "      <td>0</td>\n",
       "      <td>1</td>\n",
       "      <td>0</td>\n",
       "      <td>0</td>\n",
       "      <td>0</td>\n",
       "      <td>1</td>\n",
       "      <td>0</td>\n",
       "      <td>0</td>\n",
       "      <td>0</td>\n",
       "      <td>0</td>\n",
       "    </tr>\n",
       "  </tbody>\n",
       "</table>\n",
       "<p>5 rows × 117 columns</p>\n",
       "</div>"
      ],
      "text/plain": [
       "      cap-shape_b  cap-shape_c  cap-shape_f  cap-shape_k  cap-shape_s  \\\n",
       "5641            0            0            1            0            0   \n",
       "2660            0            0            0            0            0   \n",
       "1630            0            0            1            0            0   \n",
       "2352            0            0            0            0            0   \n",
       "8062            0            0            0            1            0   \n",
       "\n",
       "      cap-shape_x  cap-surface_f  cap-surface_g  cap-surface_s  cap-surface_y  \\\n",
       "5641            0              0              0              0              1   \n",
       "2660            1              1              0              0              0   \n",
       "1630            0              0              0              1              0   \n",
       "2352            1              0              0              0              1   \n",
       "8062            0              0              0              0              1   \n",
       "\n",
       "      ...  population_s  population_v  population_y  habitat_d  habitat_g  \\\n",
       "5641  ...             0             1             0          1          0   \n",
       "2660  ...             0             1             0          1          0   \n",
       "1630  ...             1             0             0          0          0   \n",
       "2352  ...             0             1             0          1          0   \n",
       "8062  ...             0             1             0          0          0   \n",
       "\n",
       "      habitat_l  habitat_m  habitat_p  habitat_u  habitat_w  \n",
       "5641          0          0          0          0          0  \n",
       "2660          0          0          0          0          0  \n",
       "1630          0          0          0          1          0  \n",
       "2352          0          0          0          0          0  \n",
       "8062          1          0          0          0          0  \n",
       "\n",
       "[5 rows x 117 columns]"
      ]
     },
     "execution_count": 24,
     "metadata": {},
     "output_type": "execute_result"
    }
   ],
   "source": [
    "X = pd.get_dummies(X)\n",
    "X.sample(5)"
   ]
  },
  {
   "cell_type": "markdown",
   "id": "c8ef109b",
   "metadata": {},
   "source": [
    "**Split data into training and test set**"
   ]
  },
  {
   "cell_type": "code",
   "execution_count": 25,
   "id": "6a46f477",
   "metadata": {},
   "outputs": [],
   "source": [
    "X_train, X_test, y_train, y_test = train_test_split(X,\n",
    "                                                    y,\n",
    "                                                    random_state = 0,\n",
    "                                                    test_size = 0.2,\n",
    "                                                    stratify = y)"
   ]
  },
  {
   "cell_type": "markdown",
   "id": "b565a3fc",
   "metadata": {},
   "source": [
    "**Find 5 features with greater feature importance**"
   ]
  },
  {
   "cell_type": "code",
   "execution_count": 26,
   "id": "2763f867",
   "metadata": {},
   "outputs": [
    {
     "data": {
      "text/html": [
       "<div>\n",
       "<style scoped>\n",
       "    .dataframe tbody tr th:only-of-type {\n",
       "        vertical-align: middle;\n",
       "    }\n",
       "\n",
       "    .dataframe tbody tr th {\n",
       "        vertical-align: top;\n",
       "    }\n",
       "\n",
       "    .dataframe thead th {\n",
       "        text-align: right;\n",
       "    }\n",
       "</style>\n",
       "<table border=\"1\" class=\"dataframe\">\n",
       "  <thead>\n",
       "    <tr style=\"text-align: right;\">\n",
       "      <th></th>\n",
       "      <th>Features</th>\n",
       "      <th>Importance</th>\n",
       "    </tr>\n",
       "  </thead>\n",
       "  <tbody>\n",
       "    <tr>\n",
       "      <th>27</th>\n",
       "      <td>odor_n</td>\n",
       "      <td>0.614017</td>\n",
       "    </tr>\n",
       "    <tr>\n",
       "      <th>53</th>\n",
       "      <td>stalk-root_c</td>\n",
       "      <td>0.180414</td>\n",
       "    </tr>\n",
       "    <tr>\n",
       "      <th>55</th>\n",
       "      <td>stalk-root_r</td>\n",
       "      <td>0.088393</td>\n",
       "    </tr>\n",
       "    <tr>\n",
       "      <th>100</th>\n",
       "      <td>spore-print-color_r</td>\n",
       "      <td>0.034025</td>\n",
       "    </tr>\n",
       "    <tr>\n",
       "      <th>22</th>\n",
       "      <td>odor_a</td>\n",
       "      <td>0.023233</td>\n",
       "    </tr>\n",
       "  </tbody>\n",
       "</table>\n",
       "</div>"
      ],
      "text/plain": [
       "                Features  Importance\n",
       "27                odor_n    0.614017\n",
       "53          stalk-root_c    0.180414\n",
       "55          stalk-root_r    0.088393\n",
       "100  spore-print-color_r    0.034025\n",
       "22                odor_a    0.023233"
      ]
     },
     "execution_count": 26,
     "metadata": {},
     "output_type": "execute_result"
    }
   ],
   "source": [
    "dt = DecisionTreeClassifier(random_state = 0)\n",
    "\n",
    "dt.fit(X_train, y_train)\n",
    "\n",
    "fi = pd.DataFrame({\"Features\": X.columns,\n",
    "                   \"Importance\": dt.feature_importances_})\n",
    "\n",
    "fi.sort_values(by = \"Importance\", ascending = False).head(5)"
   ]
  },
  {
   "cell_type": "markdown",
   "id": "861c7f62",
   "metadata": {},
   "source": [
    "### Select features and target to apply Support Vector Classification"
   ]
  },
  {
   "cell_type": "code",
   "execution_count": 27,
   "id": "fc9135d4",
   "metadata": {},
   "outputs": [],
   "source": [
    "features = X[[\"odor_n\", \"stalk-root_c\", \"stalk-root_r\", \"spore-print-color_r\", \"odor_a\"]]\n",
    "\n",
    "target = y"
   ]
  },
  {
   "cell_type": "markdown",
   "id": "c34cc13b",
   "metadata": {},
   "source": [
    "**Split data into training and test set**"
   ]
  },
  {
   "cell_type": "code",
   "execution_count": 28,
   "id": "bf631dec",
   "metadata": {},
   "outputs": [],
   "source": [
    "X_train, X_test, y_train, y_test = train_test_split(features,\n",
    "                                                    target,\n",
    "                                                    test_size = 0.2,\n",
    "                                                    random_state = 0,\n",
    "                                                    stratify = target)"
   ]
  },
  {
   "cell_type": "markdown",
   "id": "ccd7f389",
   "metadata": {},
   "source": [
    "**Find Best Parameters**"
   ]
  },
  {
   "cell_type": "code",
   "execution_count": 29,
   "id": "35cd3fd4",
   "metadata": {},
   "outputs": [
    {
     "data": {
      "text/plain": [
       "{'C': 1, 'kernel': 'poly'}"
      ]
     },
     "execution_count": 29,
     "metadata": {},
     "output_type": "execute_result"
    }
   ],
   "source": [
    "parameters = {\"kernel\": [\"linear\", \"poly\", \"rbf\", \"sigmoid\"],\n",
    "              \"C\": [0.001, 0.01, 1, 100, 1000]}\n",
    "\n",
    "SVM = SVC()\n",
    "\n",
    "cv = GridSearchCV(SVM, parameters)\n",
    "\n",
    "cv.fit(X_train, y_train)\n",
    "\n",
    "cv.best_params_"
   ]
  },
  {
   "cell_type": "markdown",
   "id": "3b0a7967",
   "metadata": {},
   "source": [
    "### Support Vector Classification"
   ]
  },
  {
   "cell_type": "code",
   "execution_count": 30,
   "id": "5e8a04b1",
   "metadata": {},
   "outputs": [
    {
     "data": {
      "text/html": [
       "<div>\n",
       "<style scoped>\n",
       "    .dataframe tbody tr th:only-of-type {\n",
       "        vertical-align: middle;\n",
       "    }\n",
       "\n",
       "    .dataframe tbody tr th {\n",
       "        vertical-align: top;\n",
       "    }\n",
       "\n",
       "    .dataframe thead th {\n",
       "        text-align: right;\n",
       "    }\n",
       "</style>\n",
       "<table border=\"1\" class=\"dataframe\">\n",
       "  <thead>\n",
       "    <tr style=\"text-align: right;\">\n",
       "      <th></th>\n",
       "      <th>Actual</th>\n",
       "      <th>Predicted</th>\n",
       "    </tr>\n",
       "  </thead>\n",
       "  <tbody>\n",
       "    <tr>\n",
       "      <th>964</th>\n",
       "      <td>e</td>\n",
       "      <td>e</td>\n",
       "    </tr>\n",
       "    <tr>\n",
       "      <th>7311</th>\n",
       "      <td>e</td>\n",
       "      <td>e</td>\n",
       "    </tr>\n",
       "    <tr>\n",
       "      <th>6317</th>\n",
       "      <td>p</td>\n",
       "      <td>p</td>\n",
       "    </tr>\n",
       "    <tr>\n",
       "      <th>1221</th>\n",
       "      <td>e</td>\n",
       "      <td>e</td>\n",
       "    </tr>\n",
       "    <tr>\n",
       "      <th>7849</th>\n",
       "      <td>p</td>\n",
       "      <td>p</td>\n",
       "    </tr>\n",
       "    <tr>\n",
       "      <th>4268</th>\n",
       "      <td>p</td>\n",
       "      <td>p</td>\n",
       "    </tr>\n",
       "    <tr>\n",
       "      <th>1459</th>\n",
       "      <td>p</td>\n",
       "      <td>p</td>\n",
       "    </tr>\n",
       "    <tr>\n",
       "      <th>6091</th>\n",
       "      <td>p</td>\n",
       "      <td>p</td>\n",
       "    </tr>\n",
       "    <tr>\n",
       "      <th>7675</th>\n",
       "      <td>p</td>\n",
       "      <td>p</td>\n",
       "    </tr>\n",
       "    <tr>\n",
       "      <th>5801</th>\n",
       "      <td>p</td>\n",
       "      <td>p</td>\n",
       "    </tr>\n",
       "  </tbody>\n",
       "</table>\n",
       "</div>"
      ],
      "text/plain": [
       "     Actual Predicted\n",
       "964       e         e\n",
       "7311      e         e\n",
       "6317      p         p\n",
       "1221      e         e\n",
       "7849      p         p\n",
       "4268      p         p\n",
       "1459      p         p\n",
       "6091      p         p\n",
       "7675      p         p\n",
       "5801      p         p"
      ]
     },
     "execution_count": 30,
     "metadata": {},
     "output_type": "execute_result"
    }
   ],
   "source": [
    "svc_m = SVC(kernel = \"poly\", C = 1)\n",
    "\n",
    "svc_m.fit(X_train, y_train)\n",
    "\n",
    "pred_svm = svc_m.predict(X_test)\n",
    "\n",
    "pd.DataFrame({\"Actual\": y_test,\n",
    "              \"Predicted\": pred_svm}).sample(10)"
   ]
  },
  {
   "cell_type": "markdown",
   "id": "b402fc94",
   "metadata": {},
   "source": [
    "**Accuracy**"
   ]
  },
  {
   "cell_type": "code",
   "execution_count": 31,
   "id": "19837ddc",
   "metadata": {},
   "outputs": [
    {
     "data": {
      "text/plain": [
       "0.9821538461538462"
      ]
     },
     "execution_count": 31,
     "metadata": {},
     "output_type": "execute_result"
    }
   ],
   "source": [
    "score = accuracy_score(y_test, pred_svm)\n",
    "score"
   ]
  },
  {
   "cell_type": "markdown",
   "id": "5add7bde",
   "metadata": {},
   "source": [
    "**Custom Prediction**"
   ]
  },
  {
   "cell_type": "code",
   "execution_count": 32,
   "id": "bee29878",
   "metadata": {},
   "outputs": [
    {
     "name": "stdout",
     "output_type": "stream",
     "text": [
      "Custom Prediction of SVM = ['e']\n"
     ]
    }
   ],
   "source": [
    "print(\"Custom Prediction of SVM =\", svc_m.predict([[1, 0, 1, 1, 1]]))"
   ]
  },
  {
   "cell_type": "markdown",
   "id": "11e1c070",
   "metadata": {},
   "source": [
    "# Model Evaluation"
   ]
  },
  {
   "cell_type": "code",
   "execution_count": 33,
   "id": "1a05162b",
   "metadata": {},
   "outputs": [],
   "source": [
    "from sklearn.datasets import load_digits\n",
    "digits = load_digits()"
   ]
  },
  {
   "cell_type": "markdown",
   "id": "ca8a9943",
   "metadata": {},
   "source": [
    "**Prepare Features and Targets**"
   ]
  },
  {
   "cell_type": "code",
   "execution_count": 34,
   "id": "6eb8c7e8",
   "metadata": {},
   "outputs": [],
   "source": [
    "features = pd.DataFrame(digits.data, columns = digits.feature_names)\n",
    "\n",
    "target = pd.DataFrame({\"Target\": digits.target})"
   ]
  },
  {
   "cell_type": "markdown",
   "id": "872cbd45",
   "metadata": {},
   "source": [
    "**Combine to made a dataframe**"
   ]
  },
  {
   "cell_type": "code",
   "execution_count": 35,
   "id": "0d627eec",
   "metadata": {},
   "outputs": [
    {
     "data": {
      "text/html": [
       "<div>\n",
       "<style scoped>\n",
       "    .dataframe tbody tr th:only-of-type {\n",
       "        vertical-align: middle;\n",
       "    }\n",
       "\n",
       "    .dataframe tbody tr th {\n",
       "        vertical-align: top;\n",
       "    }\n",
       "\n",
       "    .dataframe thead th {\n",
       "        text-align: right;\n",
       "    }\n",
       "</style>\n",
       "<table border=\"1\" class=\"dataframe\">\n",
       "  <thead>\n",
       "    <tr style=\"text-align: right;\">\n",
       "      <th></th>\n",
       "      <th>pixel_0_0</th>\n",
       "      <th>pixel_0_1</th>\n",
       "      <th>pixel_0_2</th>\n",
       "      <th>pixel_0_3</th>\n",
       "      <th>pixel_0_4</th>\n",
       "      <th>pixel_0_5</th>\n",
       "      <th>pixel_0_6</th>\n",
       "      <th>pixel_0_7</th>\n",
       "      <th>pixel_1_0</th>\n",
       "      <th>pixel_1_1</th>\n",
       "      <th>...</th>\n",
       "      <th>pixel_6_7</th>\n",
       "      <th>pixel_7_0</th>\n",
       "      <th>pixel_7_1</th>\n",
       "      <th>pixel_7_2</th>\n",
       "      <th>pixel_7_3</th>\n",
       "      <th>pixel_7_4</th>\n",
       "      <th>pixel_7_5</th>\n",
       "      <th>pixel_7_6</th>\n",
       "      <th>pixel_7_7</th>\n",
       "      <th>Target</th>\n",
       "    </tr>\n",
       "  </thead>\n",
       "  <tbody>\n",
       "    <tr>\n",
       "      <th>1280</th>\n",
       "      <td>0.0</td>\n",
       "      <td>0.0</td>\n",
       "      <td>13.0</td>\n",
       "      <td>16.0</td>\n",
       "      <td>16.0</td>\n",
       "      <td>15.0</td>\n",
       "      <td>2.0</td>\n",
       "      <td>0.0</td>\n",
       "      <td>0.0</td>\n",
       "      <td>0.0</td>\n",
       "      <td>...</td>\n",
       "      <td>0.0</td>\n",
       "      <td>0.0</td>\n",
       "      <td>1.0</td>\n",
       "      <td>13.0</td>\n",
       "      <td>16.0</td>\n",
       "      <td>15.0</td>\n",
       "      <td>3.0</td>\n",
       "      <td>0.0</td>\n",
       "      <td>0.0</td>\n",
       "      <td>8</td>\n",
       "    </tr>\n",
       "    <tr>\n",
       "      <th>1703</th>\n",
       "      <td>0.0</td>\n",
       "      <td>0.0</td>\n",
       "      <td>4.0</td>\n",
       "      <td>14.0</td>\n",
       "      <td>11.0</td>\n",
       "      <td>3.0</td>\n",
       "      <td>0.0</td>\n",
       "      <td>0.0</td>\n",
       "      <td>0.0</td>\n",
       "      <td>0.0</td>\n",
       "      <td>...</td>\n",
       "      <td>0.0</td>\n",
       "      <td>0.0</td>\n",
       "      <td>0.0</td>\n",
       "      <td>4.0</td>\n",
       "      <td>15.0</td>\n",
       "      <td>12.0</td>\n",
       "      <td>2.0</td>\n",
       "      <td>0.0</td>\n",
       "      <td>0.0</td>\n",
       "      <td>0</td>\n",
       "    </tr>\n",
       "    <tr>\n",
       "      <th>615</th>\n",
       "      <td>0.0</td>\n",
       "      <td>0.0</td>\n",
       "      <td>5.0</td>\n",
       "      <td>16.0</td>\n",
       "      <td>14.0</td>\n",
       "      <td>8.0</td>\n",
       "      <td>0.0</td>\n",
       "      <td>0.0</td>\n",
       "      <td>0.0</td>\n",
       "      <td>0.0</td>\n",
       "      <td>...</td>\n",
       "      <td>0.0</td>\n",
       "      <td>0.0</td>\n",
       "      <td>0.0</td>\n",
       "      <td>6.0</td>\n",
       "      <td>16.0</td>\n",
       "      <td>16.0</td>\n",
       "      <td>16.0</td>\n",
       "      <td>3.0</td>\n",
       "      <td>0.0</td>\n",
       "      <td>1</td>\n",
       "    </tr>\n",
       "    <tr>\n",
       "      <th>1214</th>\n",
       "      <td>0.0</td>\n",
       "      <td>1.0</td>\n",
       "      <td>10.0</td>\n",
       "      <td>15.0</td>\n",
       "      <td>15.0</td>\n",
       "      <td>5.0</td>\n",
       "      <td>0.0</td>\n",
       "      <td>0.0</td>\n",
       "      <td>0.0</td>\n",
       "      <td>11.0</td>\n",
       "      <td>...</td>\n",
       "      <td>1.0</td>\n",
       "      <td>0.0</td>\n",
       "      <td>1.0</td>\n",
       "      <td>15.0</td>\n",
       "      <td>16.0</td>\n",
       "      <td>16.0</td>\n",
       "      <td>12.0</td>\n",
       "      <td>5.0</td>\n",
       "      <td>0.0</td>\n",
       "      <td>2</td>\n",
       "    </tr>\n",
       "    <tr>\n",
       "      <th>402</th>\n",
       "      <td>0.0</td>\n",
       "      <td>0.0</td>\n",
       "      <td>2.0</td>\n",
       "      <td>11.0</td>\n",
       "      <td>13.0</td>\n",
       "      <td>4.0</td>\n",
       "      <td>0.0</td>\n",
       "      <td>0.0</td>\n",
       "      <td>0.0</td>\n",
       "      <td>0.0</td>\n",
       "      <td>...</td>\n",
       "      <td>0.0</td>\n",
       "      <td>0.0</td>\n",
       "      <td>0.0</td>\n",
       "      <td>2.0</td>\n",
       "      <td>10.0</td>\n",
       "      <td>16.0</td>\n",
       "      <td>7.0</td>\n",
       "      <td>0.0</td>\n",
       "      <td>0.0</td>\n",
       "      <td>6</td>\n",
       "    </tr>\n",
       "  </tbody>\n",
       "</table>\n",
       "<p>5 rows × 65 columns</p>\n",
       "</div>"
      ],
      "text/plain": [
       "      pixel_0_0  pixel_0_1  pixel_0_2  pixel_0_3  pixel_0_4  pixel_0_5  \\\n",
       "1280        0.0        0.0       13.0       16.0       16.0       15.0   \n",
       "1703        0.0        0.0        4.0       14.0       11.0        3.0   \n",
       "615         0.0        0.0        5.0       16.0       14.0        8.0   \n",
       "1214        0.0        1.0       10.0       15.0       15.0        5.0   \n",
       "402         0.0        0.0        2.0       11.0       13.0        4.0   \n",
       "\n",
       "      pixel_0_6  pixel_0_7  pixel_1_0  pixel_1_1  ...  pixel_6_7  pixel_7_0  \\\n",
       "1280        2.0        0.0        0.0        0.0  ...        0.0        0.0   \n",
       "1703        0.0        0.0        0.0        0.0  ...        0.0        0.0   \n",
       "615         0.0        0.0        0.0        0.0  ...        0.0        0.0   \n",
       "1214        0.0        0.0        0.0       11.0  ...        1.0        0.0   \n",
       "402         0.0        0.0        0.0        0.0  ...        0.0        0.0   \n",
       "\n",
       "      pixel_7_1  pixel_7_2  pixel_7_3  pixel_7_4  pixel_7_5  pixel_7_6  \\\n",
       "1280        1.0       13.0       16.0       15.0        3.0        0.0   \n",
       "1703        0.0        4.0       15.0       12.0        2.0        0.0   \n",
       "615         0.0        6.0       16.0       16.0       16.0        3.0   \n",
       "1214        1.0       15.0       16.0       16.0       12.0        5.0   \n",
       "402         0.0        2.0       10.0       16.0        7.0        0.0   \n",
       "\n",
       "      pixel_7_7  Target  \n",
       "1280        0.0       8  \n",
       "1703        0.0       0  \n",
       "615         0.0       1  \n",
       "1214        0.0       2  \n",
       "402         0.0       6  \n",
       "\n",
       "[5 rows x 65 columns]"
      ]
     },
     "execution_count": 35,
     "metadata": {},
     "output_type": "execute_result"
    }
   ],
   "source": [
    "df = pd.concat([features, target], axis = 1)\n",
    "df.sample(5)"
   ]
  },
  {
   "cell_type": "markdown",
   "id": "0c36dce6",
   "metadata": {},
   "source": [
    "**Check Classes**"
   ]
  },
  {
   "cell_type": "code",
   "execution_count": 36,
   "id": "341a7752",
   "metadata": {},
   "outputs": [
    {
     "data": {
      "text/plain": [
       "0    178\n",
       "1    182\n",
       "2    177\n",
       "3    183\n",
       "4    181\n",
       "5    182\n",
       "6    181\n",
       "7    179\n",
       "8    174\n",
       "9    180\n",
       "Name: Target, dtype: int64"
      ]
     },
     "execution_count": 36,
     "metadata": {},
     "output_type": "execute_result"
    }
   ],
   "source": [
    "df[\"Target\"].value_counts().sort_index()"
   ]
  },
  {
   "cell_type": "markdown",
   "id": "400f8bad",
   "metadata": {},
   "source": [
    "**Class Imbalance**"
   ]
  },
  {
   "cell_type": "code",
   "execution_count": 37,
   "id": "9fad3f3a",
   "metadata": {},
   "outputs": [
    {
     "data": {
      "text/plain": [
       "0    1615\n",
       "1     182\n",
       "Name: Target, dtype: int64"
      ]
     },
     "execution_count": 37,
     "metadata": {},
     "output_type": "execute_result"
    }
   ],
   "source": [
    "def num(x):\n",
    "    if x == 1:\n",
    "        return 1\n",
    "    else:\n",
    "        return 0\n",
    "    \n",
    "df[\"Target\"] = df[\"Target\"].apply(num)\n",
    "df[\"Target\"].value_counts()"
   ]
  },
  {
   "cell_type": "markdown",
   "id": "7951be33",
   "metadata": {},
   "source": [
    "**Prepare features and target**"
   ]
  },
  {
   "cell_type": "code",
   "execution_count": 38,
   "id": "7744d7b0",
   "metadata": {},
   "outputs": [],
   "source": [
    "# Features\n",
    "X = df[df.columns.drop(\"Target\")]\n",
    "\n",
    "# Target\n",
    "y = df[\"Target\"]"
   ]
  },
  {
   "cell_type": "markdown",
   "id": "2fb4969f",
   "metadata": {},
   "source": [
    "**Split data into training and test set**"
   ]
  },
  {
   "cell_type": "code",
   "execution_count": 39,
   "id": "4f7afb5e",
   "metadata": {},
   "outputs": [],
   "source": [
    "X_train, X_test, y_train, y_test = train_test_split(X,\n",
    "                                                    y,\n",
    "                                                    test_size = 0.2,\n",
    "                                                    random_state = 0,\n",
    "                                                    stratify = y)"
   ]
  },
  {
   "cell_type": "markdown",
   "id": "4ab83a6e",
   "metadata": {},
   "source": [
    "**find best params**"
   ]
  },
  {
   "cell_type": "code",
   "execution_count": 40,
   "id": "1cf2cec5",
   "metadata": {},
   "outputs": [
    {
     "data": {
      "text/plain": [
       "{'C': 1, 'kernel': 'poly'}"
      ]
     },
     "execution_count": 40,
     "metadata": {},
     "output_type": "execute_result"
    }
   ],
   "source": [
    "parameters = {\"kernel\": [\"linear\", \"poly\", \"rbf\", \"sigmoid\"],\n",
    "              \"C\": [0.001, 0.01, 1, 100, 1000]}\n",
    "\n",
    "svm_d = SVC()\n",
    "\n",
    "cv_d = GridSearchCV(svm_d, parameters)\n",
    "\n",
    "cv_d.fit(X_train, y_train)\n",
    "\n",
    "cv_d.best_params_"
   ]
  },
  {
   "cell_type": "code",
   "execution_count": 41,
   "id": "2236c52e",
   "metadata": {},
   "outputs": [
    {
     "data": {
      "text/html": [
       "<div>\n",
       "<style scoped>\n",
       "    .dataframe tbody tr th:only-of-type {\n",
       "        vertical-align: middle;\n",
       "    }\n",
       "\n",
       "    .dataframe tbody tr th {\n",
       "        vertical-align: top;\n",
       "    }\n",
       "\n",
       "    .dataframe thead th {\n",
       "        text-align: right;\n",
       "    }\n",
       "</style>\n",
       "<table border=\"1\" class=\"dataframe\">\n",
       "  <thead>\n",
       "    <tr style=\"text-align: right;\">\n",
       "      <th></th>\n",
       "      <th>Actual</th>\n",
       "      <th>Predicted</th>\n",
       "    </tr>\n",
       "  </thead>\n",
       "  <tbody>\n",
       "    <tr>\n",
       "      <th>1180</th>\n",
       "      <td>0</td>\n",
       "      <td>0</td>\n",
       "    </tr>\n",
       "    <tr>\n",
       "      <th>650</th>\n",
       "      <td>0</td>\n",
       "      <td>0</td>\n",
       "    </tr>\n",
       "    <tr>\n",
       "      <th>1737</th>\n",
       "      <td>1</td>\n",
       "      <td>1</td>\n",
       "    </tr>\n",
       "    <tr>\n",
       "      <th>496</th>\n",
       "      <td>0</td>\n",
       "      <td>0</td>\n",
       "    </tr>\n",
       "    <tr>\n",
       "      <th>597</th>\n",
       "      <td>0</td>\n",
       "      <td>0</td>\n",
       "    </tr>\n",
       "  </tbody>\n",
       "</table>\n",
       "</div>"
      ],
      "text/plain": [
       "      Actual  Predicted\n",
       "1180       0          0\n",
       "650        0          0\n",
       "1737       1          1\n",
       "496        0          0\n",
       "597        0          0"
      ]
     },
     "execution_count": 41,
     "metadata": {},
     "output_type": "execute_result"
    }
   ],
   "source": [
    "svm = SVC(kernel = \"poly\", C = 1)\n",
    "\n",
    "svm.fit(X_train, y_train)\n",
    "\n",
    "svm_dp = svm.predict(X_test)\n",
    "\n",
    "pd.DataFrame({\"Actual\": y_test,\n",
    "                       \"Predicted\": svm_dp}).sample(5)"
   ]
  },
  {
   "cell_type": "markdown",
   "id": "009edfa8",
   "metadata": {},
   "source": [
    "**Confusion Matrix**"
   ]
  },
  {
   "cell_type": "code",
   "execution_count": 42,
   "id": "327f36cf",
   "metadata": {},
   "outputs": [
    {
     "data": {
      "text/html": [
       "<div>\n",
       "<style scoped>\n",
       "    .dataframe tbody tr th:only-of-type {\n",
       "        vertical-align: middle;\n",
       "    }\n",
       "\n",
       "    .dataframe tbody tr th {\n",
       "        vertical-align: top;\n",
       "    }\n",
       "\n",
       "    .dataframe thead th {\n",
       "        text-align: right;\n",
       "    }\n",
       "</style>\n",
       "<table border=\"1\" class=\"dataframe\">\n",
       "  <thead>\n",
       "    <tr style=\"text-align: right;\">\n",
       "      <th></th>\n",
       "      <th>0</th>\n",
       "      <th>1</th>\n",
       "    </tr>\n",
       "  </thead>\n",
       "  <tbody>\n",
       "    <tr>\n",
       "      <th>0</th>\n",
       "      <td>323</td>\n",
       "      <td>1</td>\n",
       "    </tr>\n",
       "    <tr>\n",
       "      <th>1</th>\n",
       "      <td>0</td>\n",
       "      <td>36</td>\n",
       "    </tr>\n",
       "  </tbody>\n",
       "</table>\n",
       "</div>"
      ],
      "text/plain": [
       "     0   1\n",
       "0  323   1\n",
       "1    0  36"
      ]
     },
     "execution_count": 42,
     "metadata": {},
     "output_type": "execute_result"
    }
   ],
   "source": [
    "pd.DataFrame(confusion_matrix(y_test, svm_dp))"
   ]
  },
  {
   "cell_type": "markdown",
   "id": "362123c5",
   "metadata": {},
   "source": [
    "**Accuracy**"
   ]
  },
  {
   "cell_type": "code",
   "execution_count": 43,
   "id": "41802379",
   "metadata": {},
   "outputs": [
    {
     "data": {
      "text/plain": [
       "0.9972222222222222"
      ]
     },
     "execution_count": 43,
     "metadata": {},
     "output_type": "execute_result"
    }
   ],
   "source": [
    "accuracy_score(y_test, svm_dp)"
   ]
  },
  {
   "cell_type": "markdown",
   "id": "e294c6c8",
   "metadata": {},
   "source": [
    "### Regression Evaluation"
   ]
  },
  {
   "cell_type": "code",
   "execution_count": 44,
   "id": "3a9c4ca2",
   "metadata": {},
   "outputs": [],
   "source": [
    "from sklearn.datasets import load_diabetes\n",
    "diabetes = load_diabetes()"
   ]
  },
  {
   "cell_type": "markdown",
   "id": "589f450a",
   "metadata": {},
   "source": [
    "**Prepare features and target**"
   ]
  },
  {
   "cell_type": "code",
   "execution_count": 45,
   "id": "30396f8d",
   "metadata": {},
   "outputs": [
    {
     "data": {
      "text/html": [
       "<div>\n",
       "<style scoped>\n",
       "    .dataframe tbody tr th:only-of-type {\n",
       "        vertical-align: middle;\n",
       "    }\n",
       "\n",
       "    .dataframe tbody tr th {\n",
       "        vertical-align: top;\n",
       "    }\n",
       "\n",
       "    .dataframe thead th {\n",
       "        text-align: right;\n",
       "    }\n",
       "</style>\n",
       "<table border=\"1\" class=\"dataframe\">\n",
       "  <thead>\n",
       "    <tr style=\"text-align: right;\">\n",
       "      <th></th>\n",
       "      <th>age</th>\n",
       "      <th>sex</th>\n",
       "      <th>bmi</th>\n",
       "      <th>bp</th>\n",
       "      <th>s1</th>\n",
       "      <th>s2</th>\n",
       "      <th>s3</th>\n",
       "      <th>s4</th>\n",
       "      <th>s5</th>\n",
       "      <th>s6</th>\n",
       "      <th>Target</th>\n",
       "    </tr>\n",
       "  </thead>\n",
       "  <tbody>\n",
       "    <tr>\n",
       "      <th>88</th>\n",
       "      <td>-0.052738</td>\n",
       "      <td>0.050680</td>\n",
       "      <td>-0.040696</td>\n",
       "      <td>-0.067642</td>\n",
       "      <td>-0.031840</td>\n",
       "      <td>-0.037013</td>\n",
       "      <td>0.037595</td>\n",
       "      <td>-0.039493</td>\n",
       "      <td>-0.034524</td>\n",
       "      <td>0.069338</td>\n",
       "      <td>42.0</td>\n",
       "    </tr>\n",
       "    <tr>\n",
       "      <th>86</th>\n",
       "      <td>-0.070900</td>\n",
       "      <td>0.050680</td>\n",
       "      <td>-0.075186</td>\n",
       "      <td>-0.040099</td>\n",
       "      <td>-0.051103</td>\n",
       "      <td>-0.015092</td>\n",
       "      <td>-0.039719</td>\n",
       "      <td>-0.002592</td>\n",
       "      <td>-0.096433</td>\n",
       "      <td>-0.034215</td>\n",
       "      <td>55.0</td>\n",
       "    </tr>\n",
       "    <tr>\n",
       "      <th>97</th>\n",
       "      <td>-0.027310</td>\n",
       "      <td>-0.044642</td>\n",
       "      <td>0.088642</td>\n",
       "      <td>-0.025180</td>\n",
       "      <td>0.021822</td>\n",
       "      <td>0.042527</td>\n",
       "      <td>-0.032356</td>\n",
       "      <td>0.034309</td>\n",
       "      <td>0.002864</td>\n",
       "      <td>0.077622</td>\n",
       "      <td>279.0</td>\n",
       "    </tr>\n",
       "    <tr>\n",
       "      <th>50</th>\n",
       "      <td>0.034443</td>\n",
       "      <td>-0.044642</td>\n",
       "      <td>-0.007284</td>\n",
       "      <td>0.014987</td>\n",
       "      <td>-0.044223</td>\n",
       "      <td>-0.037326</td>\n",
       "      <td>-0.002903</td>\n",
       "      <td>-0.039493</td>\n",
       "      <td>-0.021394</td>\n",
       "      <td>0.007207</td>\n",
       "      <td>155.0</td>\n",
       "    </tr>\n",
       "    <tr>\n",
       "      <th>6</th>\n",
       "      <td>-0.045472</td>\n",
       "      <td>0.050680</td>\n",
       "      <td>-0.047163</td>\n",
       "      <td>-0.015999</td>\n",
       "      <td>-0.040096</td>\n",
       "      <td>-0.024800</td>\n",
       "      <td>0.000779</td>\n",
       "      <td>-0.039493</td>\n",
       "      <td>-0.062913</td>\n",
       "      <td>-0.038357</td>\n",
       "      <td>138.0</td>\n",
       "    </tr>\n",
       "  </tbody>\n",
       "</table>\n",
       "</div>"
      ],
      "text/plain": [
       "         age       sex       bmi        bp        s1        s2        s3  \\\n",
       "88 -0.052738  0.050680 -0.040696 -0.067642 -0.031840 -0.037013  0.037595   \n",
       "86 -0.070900  0.050680 -0.075186 -0.040099 -0.051103 -0.015092 -0.039719   \n",
       "97 -0.027310 -0.044642  0.088642 -0.025180  0.021822  0.042527 -0.032356   \n",
       "50  0.034443 -0.044642 -0.007284  0.014987 -0.044223 -0.037326 -0.002903   \n",
       "6  -0.045472  0.050680 -0.047163 -0.015999 -0.040096 -0.024800  0.000779   \n",
       "\n",
       "          s4        s5        s6  Target  \n",
       "88 -0.039493 -0.034524  0.069338    42.0  \n",
       "86 -0.002592 -0.096433 -0.034215    55.0  \n",
       "97  0.034309  0.002864  0.077622   279.0  \n",
       "50 -0.039493 -0.021394  0.007207   155.0  \n",
       "6  -0.039493 -0.062913 -0.038357   138.0  "
      ]
     },
     "execution_count": 45,
     "metadata": {},
     "output_type": "execute_result"
    }
   ],
   "source": [
    "features = pd.DataFrame(diabetes.data, columns = diabetes.feature_names)\n",
    "\n",
    "target = pd.DataFrame({\"Target\": diabetes.target})\n",
    "\n",
    "df = pd.concat([features, target], axis = 1)\n",
    "\n",
    "df.sample(5)"
   ]
  },
  {
   "cell_type": "markdown",
   "id": "5bf1d0a7",
   "metadata": {},
   "source": [
    "**Separate features and target**"
   ]
  },
  {
   "cell_type": "code",
   "execution_count": 46,
   "id": "48963351",
   "metadata": {},
   "outputs": [],
   "source": [
    "X = df[df.columns.drop(\"Target\")]\n",
    "\n",
    "y = df[\"Target\"]"
   ]
  },
  {
   "cell_type": "markdown",
   "id": "09a13f77",
   "metadata": {},
   "source": [
    "**Split data into training and test set**"
   ]
  },
  {
   "cell_type": "code",
   "execution_count": 47,
   "id": "29adda11",
   "metadata": {},
   "outputs": [],
   "source": [
    "X_train, X_test, y_train, y_test = train_test_split(X,\n",
    "                                                    y,\n",
    "                                                    test_size = 0.2,\n",
    "                                                    random_state = 0)"
   ]
  },
  {
   "cell_type": "markdown",
   "id": "125cd980",
   "metadata": {},
   "source": [
    "### Support Vector Regression"
   ]
  },
  {
   "cell_type": "code",
   "execution_count": 48,
   "id": "e2c72a25",
   "metadata": {},
   "outputs": [
    {
     "data": {
      "text/plain": [
       "{'C': 1000, 'kernel': 'linear'}"
      ]
     },
     "execution_count": 48,
     "metadata": {},
     "output_type": "execute_result"
    }
   ],
   "source": [
    "parameters = {\"kernel\": [\"linear\", \"poly\", \"rbf\"],\n",
    "              \"C\": [0.001, 0.01, 0.1, 1, 100, 1000]}\n",
    "\n",
    "svm_r = SVR()\n",
    "\n",
    "cv = GridSearchCV(svm_r, parameters)\n",
    "\n",
    "cv.fit(X_train, y_train)\n",
    "\n",
    "cv.best_params_"
   ]
  },
  {
   "cell_type": "code",
   "execution_count": 49,
   "id": "affa8f6c",
   "metadata": {},
   "outputs": [
    {
     "data": {
      "text/html": [
       "<div>\n",
       "<style scoped>\n",
       "    .dataframe tbody tr th:only-of-type {\n",
       "        vertical-align: middle;\n",
       "    }\n",
       "\n",
       "    .dataframe tbody tr th {\n",
       "        vertical-align: top;\n",
       "    }\n",
       "\n",
       "    .dataframe thead th {\n",
       "        text-align: right;\n",
       "    }\n",
       "</style>\n",
       "<table border=\"1\" class=\"dataframe\">\n",
       "  <thead>\n",
       "    <tr style=\"text-align: right;\">\n",
       "      <th></th>\n",
       "      <th>Actual</th>\n",
       "      <th>Predicted</th>\n",
       "    </tr>\n",
       "  </thead>\n",
       "  <tbody>\n",
       "    <tr>\n",
       "      <th>205</th>\n",
       "      <td>99.0</td>\n",
       "      <td>238.847774</td>\n",
       "    </tr>\n",
       "    <tr>\n",
       "      <th>233</th>\n",
       "      <td>90.0</td>\n",
       "      <td>143.113348</td>\n",
       "    </tr>\n",
       "    <tr>\n",
       "      <th>78</th>\n",
       "      <td>252.0</td>\n",
       "      <td>177.428262</td>\n",
       "    </tr>\n",
       "    <tr>\n",
       "      <th>400</th>\n",
       "      <td>175.0</td>\n",
       "      <td>200.746413</td>\n",
       "    </tr>\n",
       "    <tr>\n",
       "      <th>170</th>\n",
       "      <td>47.0</td>\n",
       "      <td>47.336238</td>\n",
       "    </tr>\n",
       "    <tr>\n",
       "      <th>132</th>\n",
       "      <td>107.0</td>\n",
       "      <td>102.238375</td>\n",
       "    </tr>\n",
       "    <tr>\n",
       "      <th>124</th>\n",
       "      <td>121.0</td>\n",
       "      <td>178.263885</td>\n",
       "    </tr>\n",
       "    <tr>\n",
       "      <th>56</th>\n",
       "      <td>52.0</td>\n",
       "      <td>215.992627</td>\n",
       "    </tr>\n",
       "    <tr>\n",
       "      <th>213</th>\n",
       "      <td>49.0</td>\n",
       "      <td>103.210156</td>\n",
       "    </tr>\n",
       "    <tr>\n",
       "      <th>118</th>\n",
       "      <td>179.0</td>\n",
       "      <td>159.737766</td>\n",
       "    </tr>\n",
       "  </tbody>\n",
       "</table>\n",
       "</div>"
      ],
      "text/plain": [
       "     Actual   Predicted\n",
       "205    99.0  238.847774\n",
       "233    90.0  143.113348\n",
       "78    252.0  177.428262\n",
       "400   175.0  200.746413\n",
       "170    47.0   47.336238\n",
       "132   107.0  102.238375\n",
       "124   121.0  178.263885\n",
       "56     52.0  215.992627\n",
       "213    49.0  103.210156\n",
       "118   179.0  159.737766"
      ]
     },
     "execution_count": 49,
     "metadata": {},
     "output_type": "execute_result"
    }
   ],
   "source": [
    "svr = SVR(kernel = \"linear\", C = 1000)\n",
    "\n",
    "svr.fit(X_train, y_train)\n",
    "\n",
    "pred_svr = svr.predict(X_test)\n",
    "pd.DataFrame({\"Actual\": y_test,\n",
    "              \"Predicted\": pred_svr}).sample(10)"
   ]
  },
  {
   "cell_type": "code",
   "execution_count": 50,
   "id": "a6b8214a",
   "metadata": {},
   "outputs": [
    {
     "data": {
      "text/plain": [
       "59.502981396634276"
      ]
     },
     "execution_count": 50,
     "metadata": {},
     "output_type": "execute_result"
    }
   ],
   "source": [
    "score = MSE(y_test, pred_svr)**(0.5)\n",
    "score"
   ]
  },
  {
   "cell_type": "markdown",
   "id": "e867a71d",
   "metadata": {},
   "source": [
    "### K Neighbors Regression"
   ]
  },
  {
   "cell_type": "code",
   "execution_count": 51,
   "id": "32ea71f1",
   "metadata": {},
   "outputs": [
    {
     "data": {
      "text/plain": [
       "{'n_neighbors': 8}"
      ]
     },
     "execution_count": 51,
     "metadata": {},
     "output_type": "execute_result"
    }
   ],
   "source": [
    "parameters = {\"n_neighbors\": range(1, 10)}\n",
    "\n",
    "knr = KNeighborsRegressor()\n",
    "\n",
    "cv_knr = GridSearchCV(knr, parameters)\n",
    "\n",
    "cv_knr.fit(X_train, y_train)\n",
    "\n",
    "cv_knr.best_params_"
   ]
  },
  {
   "cell_type": "code",
   "execution_count": 52,
   "id": "f53eeb82",
   "metadata": {},
   "outputs": [
    {
     "data": {
      "text/plain": [
       "63.28699316773932"
      ]
     },
     "execution_count": 52,
     "metadata": {},
     "output_type": "execute_result"
    }
   ],
   "source": [
    "KNR = KNeighborsRegressor(n_neighbors = 8)\n",
    "\n",
    "KNR.fit(X_train, y_train)\n",
    "\n",
    "pred_knr = KNR.predict(X_test)\n",
    "score = MSE(y_test, pred_knr)**(0.5)\n",
    "score"
   ]
  },
  {
   "cell_type": "markdown",
   "id": "01d7a6cc",
   "metadata": {},
   "source": [
    "### Fraud Detection"
   ]
  },
  {
   "cell_type": "code",
   "execution_count": 5,
   "id": "c84c7edd",
   "metadata": {},
   "outputs": [
    {
     "data": {
      "text/html": [
       "<div>\n",
       "<style scoped>\n",
       "    .dataframe tbody tr th:only-of-type {\n",
       "        vertical-align: middle;\n",
       "    }\n",
       "\n",
       "    .dataframe tbody tr th {\n",
       "        vertical-align: top;\n",
       "    }\n",
       "\n",
       "    .dataframe thead th {\n",
       "        text-align: right;\n",
       "    }\n",
       "</style>\n",
       "<table border=\"1\" class=\"dataframe\">\n",
       "  <thead>\n",
       "    <tr style=\"text-align: right;\">\n",
       "      <th></th>\n",
       "      <th>V1</th>\n",
       "      <th>V2</th>\n",
       "      <th>V3</th>\n",
       "      <th>V4</th>\n",
       "      <th>V5</th>\n",
       "      <th>V6</th>\n",
       "      <th>V7</th>\n",
       "      <th>V8</th>\n",
       "      <th>V9</th>\n",
       "      <th>V10</th>\n",
       "      <th>...</th>\n",
       "      <th>V21</th>\n",
       "      <th>V22</th>\n",
       "      <th>V23</th>\n",
       "      <th>V24</th>\n",
       "      <th>V25</th>\n",
       "      <th>V26</th>\n",
       "      <th>V27</th>\n",
       "      <th>V28</th>\n",
       "      <th>Amount</th>\n",
       "      <th>Class</th>\n",
       "    </tr>\n",
       "  </thead>\n",
       "  <tbody>\n",
       "    <tr>\n",
       "      <th>13565</th>\n",
       "      <td>-0.465396</td>\n",
       "      <td>1.055488</td>\n",
       "      <td>1.687682</td>\n",
       "      <td>-0.107551</td>\n",
       "      <td>-0.052681</td>\n",
       "      <td>-0.676691</td>\n",
       "      <td>0.645301</td>\n",
       "      <td>0.031432</td>\n",
       "      <td>-0.765788</td>\n",
       "      <td>-0.160831</td>\n",
       "      <td>...</td>\n",
       "      <td>-0.156705</td>\n",
       "      <td>-0.391740</td>\n",
       "      <td>-0.021567</td>\n",
       "      <td>0.534176</td>\n",
       "      <td>-0.230532</td>\n",
       "      <td>0.039013</td>\n",
       "      <td>0.266660</td>\n",
       "      <td>0.114095</td>\n",
       "      <td>0.99</td>\n",
       "      <td>0</td>\n",
       "    </tr>\n",
       "    <tr>\n",
       "      <th>17975</th>\n",
       "      <td>1.930509</td>\n",
       "      <td>0.589877</td>\n",
       "      <td>-0.573178</td>\n",
       "      <td>4.011452</td>\n",
       "      <td>0.646176</td>\n",
       "      <td>0.406016</td>\n",
       "      <td>0.003458</td>\n",
       "      <td>-0.104042</td>\n",
       "      <td>0.606845</td>\n",
       "      <td>0.995024</td>\n",
       "      <td>...</td>\n",
       "      <td>-0.084729</td>\n",
       "      <td>0.160308</td>\n",
       "      <td>0.110852</td>\n",
       "      <td>0.603596</td>\n",
       "      <td>0.152945</td>\n",
       "      <td>0.028829</td>\n",
       "      <td>-0.056768</td>\n",
       "      <td>-0.050443</td>\n",
       "      <td>7.55</td>\n",
       "      <td>0</td>\n",
       "    </tr>\n",
       "    <tr>\n",
       "      <th>5385</th>\n",
       "      <td>1.184809</td>\n",
       "      <td>-0.162581</td>\n",
       "      <td>0.801492</td>\n",
       "      <td>0.960531</td>\n",
       "      <td>-0.404912</td>\n",
       "      <td>0.782065</td>\n",
       "      <td>-0.719300</td>\n",
       "      <td>0.342308</td>\n",
       "      <td>0.791953</td>\n",
       "      <td>-0.017296</td>\n",
       "      <td>...</td>\n",
       "      <td>-0.091418</td>\n",
       "      <td>-0.121372</td>\n",
       "      <td>-0.157832</td>\n",
       "      <td>-0.841701</td>\n",
       "      <td>0.521427</td>\n",
       "      <td>-0.352885</td>\n",
       "      <td>0.062966</td>\n",
       "      <td>0.015808</td>\n",
       "      <td>12.99</td>\n",
       "      <td>0</td>\n",
       "    </tr>\n",
       "    <tr>\n",
       "      <th>19707</th>\n",
       "      <td>1.266321</td>\n",
       "      <td>0.558857</td>\n",
       "      <td>-0.097331</td>\n",
       "      <td>1.102210</td>\n",
       "      <td>0.123727</td>\n",
       "      <td>-1.167374</td>\n",
       "      <td>0.631145</td>\n",
       "      <td>-0.416871</td>\n",
       "      <td>-0.438380</td>\n",
       "      <td>0.011941</td>\n",
       "      <td>...</td>\n",
       "      <td>0.018624</td>\n",
       "      <td>0.149541</td>\n",
       "      <td>-0.162974</td>\n",
       "      <td>0.435542</td>\n",
       "      <td>0.885922</td>\n",
       "      <td>-0.300606</td>\n",
       "      <td>-0.002185</td>\n",
       "      <td>0.014243</td>\n",
       "      <td>7.49</td>\n",
       "      <td>0</td>\n",
       "    </tr>\n",
       "    <tr>\n",
       "      <th>10</th>\n",
       "      <td>0.349277</td>\n",
       "      <td>-2.539493</td>\n",
       "      <td>0.645773</td>\n",
       "      <td>-0.503734</td>\n",
       "      <td>-1.792852</td>\n",
       "      <td>0.986512</td>\n",
       "      <td>-0.927262</td>\n",
       "      <td>0.219743</td>\n",
       "      <td>4.583702</td>\n",
       "      <td>-1.996804</td>\n",
       "      <td>...</td>\n",
       "      <td>0.105308</td>\n",
       "      <td>0.028927</td>\n",
       "      <td>-0.741057</td>\n",
       "      <td>-0.965756</td>\n",
       "      <td>0.491041</td>\n",
       "      <td>0.314925</td>\n",
       "      <td>-0.031749</td>\n",
       "      <td>0.089022</td>\n",
       "      <td>488.99</td>\n",
       "      <td>0</td>\n",
       "    </tr>\n",
       "  </tbody>\n",
       "</table>\n",
       "<p>5 rows × 30 columns</p>\n",
       "</div>"
      ],
      "text/plain": [
       "             V1        V2        V3        V4        V5        V6        V7  \\\n",
       "13565 -0.465396  1.055488  1.687682 -0.107551 -0.052681 -0.676691  0.645301   \n",
       "17975  1.930509  0.589877 -0.573178  4.011452  0.646176  0.406016  0.003458   \n",
       "5385   1.184809 -0.162581  0.801492  0.960531 -0.404912  0.782065 -0.719300   \n",
       "19707  1.266321  0.558857 -0.097331  1.102210  0.123727 -1.167374  0.631145   \n",
       "10     0.349277 -2.539493  0.645773 -0.503734 -1.792852  0.986512 -0.927262   \n",
       "\n",
       "             V8        V9       V10  ...       V21       V22       V23  \\\n",
       "13565  0.031432 -0.765788 -0.160831  ... -0.156705 -0.391740 -0.021567   \n",
       "17975 -0.104042  0.606845  0.995024  ... -0.084729  0.160308  0.110852   \n",
       "5385   0.342308  0.791953 -0.017296  ... -0.091418 -0.121372 -0.157832   \n",
       "19707 -0.416871 -0.438380  0.011941  ...  0.018624  0.149541 -0.162974   \n",
       "10     0.219743  4.583702 -1.996804  ...  0.105308  0.028927 -0.741057   \n",
       "\n",
       "            V24       V25       V26       V27       V28  Amount  Class  \n",
       "13565  0.534176 -0.230532  0.039013  0.266660  0.114095    0.99      0  \n",
       "17975  0.603596  0.152945  0.028829 -0.056768 -0.050443    7.55      0  \n",
       "5385  -0.841701  0.521427 -0.352885  0.062966  0.015808   12.99      0  \n",
       "19707  0.435542  0.885922 -0.300606 -0.002185  0.014243    7.49      0  \n",
       "10    -0.965756  0.491041  0.314925 -0.031749  0.089022  488.99      0  \n",
       "\n",
       "[5 rows x 30 columns]"
      ]
     },
     "execution_count": 5,
     "metadata": {},
     "output_type": "execute_result"
    }
   ],
   "source": [
    "df = pd.read_csv(\"fraud.csv\")\n",
    "df.sample(5)"
   ]
  },
  {
   "cell_type": "markdown",
   "id": "11e5feed",
   "metadata": {},
   "source": [
    "**Instances of fraud**"
   ]
  },
  {
   "cell_type": "code",
   "execution_count": 6,
   "id": "7b0468f5",
   "metadata": {},
   "outputs": [
    {
     "data": {
      "text/plain": [
       "0    0.98\n",
       "1    0.02\n",
       "Name: Class, dtype: float64"
      ]
     },
     "execution_count": 6,
     "metadata": {},
     "output_type": "execute_result"
    }
   ],
   "source": [
    "df[\"Class\"].value_counts(normalize = True).round(2)"
   ]
  },
  {
   "cell_type": "markdown",
   "id": "b17d630e",
   "metadata": {},
   "source": [
    "**Separate features and target**"
   ]
  },
  {
   "cell_type": "code",
   "execution_count": 7,
   "id": "c93e13dd",
   "metadata": {},
   "outputs": [],
   "source": [
    "# Features\n",
    "X = df[df.columns.drop(\"Class\")]\n",
    "\n",
    "# Target\n",
    "y = df[\"Class\"]"
   ]
  },
  {
   "cell_type": "markdown",
   "id": "cd2d8130",
   "metadata": {},
   "source": [
    "**Split data into training and test set**"
   ]
  },
  {
   "cell_type": "code",
   "execution_count": 8,
   "id": "b369e54a",
   "metadata": {},
   "outputs": [],
   "source": [
    "X_train, X_test, y_train, y_test = train_test_split(X,\n",
    "                                                    y,\n",
    "                                                    test_size = 0.2,\n",
    "                                                    stratify = y)"
   ]
  },
  {
   "cell_type": "markdown",
   "id": "880c219c",
   "metadata": {},
   "source": [
    "### Support Vector Classification (default parameters)"
   ]
  },
  {
   "cell_type": "code",
   "execution_count": 9,
   "id": "bdcff537",
   "metadata": {},
   "outputs": [
    {
     "data": {
      "text/html": [
       "<div>\n",
       "<style scoped>\n",
       "    .dataframe tbody tr th:only-of-type {\n",
       "        vertical-align: middle;\n",
       "    }\n",
       "\n",
       "    .dataframe tbody tr th {\n",
       "        vertical-align: top;\n",
       "    }\n",
       "\n",
       "    .dataframe thead th {\n",
       "        text-align: right;\n",
       "    }\n",
       "</style>\n",
       "<table border=\"1\" class=\"dataframe\">\n",
       "  <thead>\n",
       "    <tr style=\"text-align: right;\">\n",
       "      <th></th>\n",
       "      <th>Actual</th>\n",
       "      <th>Predicted</th>\n",
       "    </tr>\n",
       "  </thead>\n",
       "  <tbody>\n",
       "    <tr>\n",
       "      <th>561</th>\n",
       "      <td>0</td>\n",
       "      <td>0</td>\n",
       "    </tr>\n",
       "    <tr>\n",
       "      <th>16521</th>\n",
       "      <td>0</td>\n",
       "      <td>0</td>\n",
       "    </tr>\n",
       "    <tr>\n",
       "      <th>7062</th>\n",
       "      <td>0</td>\n",
       "      <td>0</td>\n",
       "    </tr>\n",
       "    <tr>\n",
       "      <th>16102</th>\n",
       "      <td>0</td>\n",
       "      <td>0</td>\n",
       "    </tr>\n",
       "    <tr>\n",
       "      <th>9781</th>\n",
       "      <td>0</td>\n",
       "      <td>0</td>\n",
       "    </tr>\n",
       "  </tbody>\n",
       "</table>\n",
       "</div>"
      ],
      "text/plain": [
       "       Actual  Predicted\n",
       "561         0          0\n",
       "16521       0          0\n",
       "7062        0          0\n",
       "16102       0          0\n",
       "9781        0          0"
      ]
     },
     "execution_count": 9,
     "metadata": {},
     "output_type": "execute_result"
    }
   ],
   "source": [
    "svc = SVC()\n",
    "\n",
    "svc.fit(X_train, y_train)\n",
    "\n",
    "svc_pred = svc.predict(X_test)\n",
    "pd.DataFrame({\"Actual\": y_test,\n",
    "              \"Predicted\": svc_pred}).sample(5)"
   ]
  },
  {
   "cell_type": "markdown",
   "id": "fae2df8e",
   "metadata": {},
   "source": [
    "**Confusion Matrix**"
   ]
  },
  {
   "cell_type": "code",
   "execution_count": 10,
   "id": "ed7b96cb",
   "metadata": {},
   "outputs": [
    {
     "data": {
      "text/html": [
       "<div>\n",
       "<style scoped>\n",
       "    .dataframe tbody tr th:only-of-type {\n",
       "        vertical-align: middle;\n",
       "    }\n",
       "\n",
       "    .dataframe tbody tr th {\n",
       "        vertical-align: top;\n",
       "    }\n",
       "\n",
       "    .dataframe thead th {\n",
       "        text-align: right;\n",
       "    }\n",
       "</style>\n",
       "<table border=\"1\" class=\"dataframe\">\n",
       "  <thead>\n",
       "    <tr style=\"text-align: right;\">\n",
       "      <th></th>\n",
       "      <th>Actual 0</th>\n",
       "      <th>Actual 1</th>\n",
       "    </tr>\n",
       "  </thead>\n",
       "  <tbody>\n",
       "    <tr>\n",
       "      <th>Predicted 0</th>\n",
       "      <td>4267</td>\n",
       "      <td>1</td>\n",
       "    </tr>\n",
       "    <tr>\n",
       "      <th>Predicted 1</th>\n",
       "      <td>52</td>\n",
       "      <td>19</td>\n",
       "    </tr>\n",
       "  </tbody>\n",
       "</table>\n",
       "</div>"
      ],
      "text/plain": [
       "             Actual 0  Actual 1\n",
       "Predicted 0      4267         1\n",
       "Predicted 1        52        19"
      ]
     },
     "execution_count": 10,
     "metadata": {},
     "output_type": "execute_result"
    }
   ],
   "source": [
    "pd.DataFrame(confusion_matrix(y_test, svc_pred), columns = [\"Actual 0\", \"Actual 1\"], index = [\"Predicted 0\", \"Predicted 1\"])"
   ]
  },
  {
   "cell_type": "markdown",
   "id": "06ce3ac7",
   "metadata": {},
   "source": [
    "**Classification Report**"
   ]
  },
  {
   "cell_type": "code",
   "execution_count": 11,
   "id": "15371f72",
   "metadata": {},
   "outputs": [
    {
     "name": "stdout",
     "output_type": "stream",
     "text": [
      "              precision    recall  f1-score   support\n",
      "\n",
      "           0       0.99      1.00      0.99      4268\n",
      "           1       0.95      0.27      0.42        71\n",
      "\n",
      "    accuracy                           0.99      4339\n",
      "   macro avg       0.97      0.63      0.71      4339\n",
      "weighted avg       0.99      0.99      0.98      4339\n",
      "\n"
     ]
    }
   ],
   "source": [
    "print(classification_report(y_test, svc_pred))"
   ]
  },
  {
   "cell_type": "markdown",
   "id": "a41940b7",
   "metadata": {},
   "source": [
    "### SVC with parameters"
   ]
  },
  {
   "cell_type": "code",
   "execution_count": 12,
   "id": "97ef4f55",
   "metadata": {},
   "outputs": [
    {
     "data": {
      "text/html": [
       "<div>\n",
       "<style scoped>\n",
       "    .dataframe tbody tr th:only-of-type {\n",
       "        vertical-align: middle;\n",
       "    }\n",
       "\n",
       "    .dataframe tbody tr th {\n",
       "        vertical-align: top;\n",
       "    }\n",
       "\n",
       "    .dataframe thead th {\n",
       "        text-align: right;\n",
       "    }\n",
       "</style>\n",
       "<table border=\"1\" class=\"dataframe\">\n",
       "  <thead>\n",
       "    <tr style=\"text-align: right;\">\n",
       "      <th></th>\n",
       "      <th>Actual</th>\n",
       "      <th>Predicted</th>\n",
       "    </tr>\n",
       "  </thead>\n",
       "  <tbody>\n",
       "    <tr>\n",
       "      <th>4863</th>\n",
       "      <td>0</td>\n",
       "      <td>0</td>\n",
       "    </tr>\n",
       "    <tr>\n",
       "      <th>11796</th>\n",
       "      <td>0</td>\n",
       "      <td>0</td>\n",
       "    </tr>\n",
       "    <tr>\n",
       "      <th>20757</th>\n",
       "      <td>0</td>\n",
       "      <td>0</td>\n",
       "    </tr>\n",
       "    <tr>\n",
       "      <th>14255</th>\n",
       "      <td>0</td>\n",
       "      <td>0</td>\n",
       "    </tr>\n",
       "    <tr>\n",
       "      <th>827</th>\n",
       "      <td>0</td>\n",
       "      <td>0</td>\n",
       "    </tr>\n",
       "  </tbody>\n",
       "</table>\n",
       "</div>"
      ],
      "text/plain": [
       "       Actual  Predicted\n",
       "4863        0          0\n",
       "11796       0          0\n",
       "20757       0          0\n",
       "14255       0          0\n",
       "827         0          0"
      ]
     },
     "execution_count": 12,
     "metadata": {},
     "output_type": "execute_result"
    }
   ],
   "source": [
    "svc = SVC(C = 100000000, gamma = 0.0000001)\n",
    "\n",
    "svc.fit(X_train, y_train)\n",
    "\n",
    "pred_s = svc.predict(X_test)\n",
    "\n",
    "pd.DataFrame({\"Actual\": y_test,\n",
    "              \"Predicted\": pred_s}).sample(5)"
   ]
  },
  {
   "cell_type": "markdown",
   "id": "978820ce",
   "metadata": {},
   "source": [
    "**Confusion Matrix**"
   ]
  },
  {
   "cell_type": "code",
   "execution_count": 13,
   "id": "ed7645eb",
   "metadata": {},
   "outputs": [
    {
     "data": {
      "text/html": [
       "<div>\n",
       "<style scoped>\n",
       "    .dataframe tbody tr th:only-of-type {\n",
       "        vertical-align: middle;\n",
       "    }\n",
       "\n",
       "    .dataframe tbody tr th {\n",
       "        vertical-align: top;\n",
       "    }\n",
       "\n",
       "    .dataframe thead th {\n",
       "        text-align: right;\n",
       "    }\n",
       "</style>\n",
       "<table border=\"1\" class=\"dataframe\">\n",
       "  <thead>\n",
       "    <tr style=\"text-align: right;\">\n",
       "      <th></th>\n",
       "      <th>Actual 0</th>\n",
       "      <th>Actual 1</th>\n",
       "    </tr>\n",
       "  </thead>\n",
       "  <tbody>\n",
       "    <tr>\n",
       "      <th>Predicted 0</th>\n",
       "      <td>4265</td>\n",
       "      <td>3</td>\n",
       "    </tr>\n",
       "    <tr>\n",
       "      <th>Predicted 1</th>\n",
       "      <td>17</td>\n",
       "      <td>54</td>\n",
       "    </tr>\n",
       "  </tbody>\n",
       "</table>\n",
       "</div>"
      ],
      "text/plain": [
       "             Actual 0  Actual 1\n",
       "Predicted 0      4265         3\n",
       "Predicted 1        17        54"
      ]
     },
     "execution_count": 13,
     "metadata": {},
     "output_type": "execute_result"
    }
   ],
   "source": [
    "pd.DataFrame(confusion_matrix(y_test, pred_s), columns = [\"Actual 0\", \"Actual 1\"], index = [\"Predicted 0\", \"Predicted 1\"])"
   ]
  },
  {
   "cell_type": "markdown",
   "id": "45097368",
   "metadata": {},
   "source": [
    "**Classification Report**"
   ]
  },
  {
   "cell_type": "code",
   "execution_count": 14,
   "id": "de0ca3a7",
   "metadata": {},
   "outputs": [
    {
     "name": "stdout",
     "output_type": "stream",
     "text": [
      "              precision    recall  f1-score   support\n",
      "\n",
      "           0       1.00      1.00      1.00      4268\n",
      "           1       0.95      0.76      0.84        71\n",
      "\n",
      "    accuracy                           1.00      4339\n",
      "   macro avg       0.97      0.88      0.92      4339\n",
      "weighted avg       1.00      1.00      1.00      4339\n",
      "\n"
     ]
    }
   ],
   "source": [
    "print(classification_report(y_test, pred_s))"
   ]
  },
  {
   "cell_type": "markdown",
   "id": "eb6c14d6",
   "metadata": {},
   "source": [
    "### Logistic Regression"
   ]
  },
  {
   "cell_type": "code",
   "execution_count": 19,
   "id": "6da43427",
   "metadata": {},
   "outputs": [
    {
     "data": {
      "text/html": [
       "<div>\n",
       "<style scoped>\n",
       "    .dataframe tbody tr th:only-of-type {\n",
       "        vertical-align: middle;\n",
       "    }\n",
       "\n",
       "    .dataframe tbody tr th {\n",
       "        vertical-align: top;\n",
       "    }\n",
       "\n",
       "    .dataframe thead th {\n",
       "        text-align: right;\n",
       "    }\n",
       "</style>\n",
       "<table border=\"1\" class=\"dataframe\">\n",
       "  <thead>\n",
       "    <tr style=\"text-align: right;\">\n",
       "      <th></th>\n",
       "      <th>Actual</th>\n",
       "      <th>Predicted</th>\n",
       "    </tr>\n",
       "  </thead>\n",
       "  <tbody>\n",
       "    <tr>\n",
       "      <th>19798</th>\n",
       "      <td>0</td>\n",
       "      <td>0</td>\n",
       "    </tr>\n",
       "    <tr>\n",
       "      <th>20163</th>\n",
       "      <td>0</td>\n",
       "      <td>0</td>\n",
       "    </tr>\n",
       "    <tr>\n",
       "      <th>11398</th>\n",
       "      <td>0</td>\n",
       "      <td>0</td>\n",
       "    </tr>\n",
       "    <tr>\n",
       "      <th>8616</th>\n",
       "      <td>0</td>\n",
       "      <td>0</td>\n",
       "    </tr>\n",
       "    <tr>\n",
       "      <th>9599</th>\n",
       "      <td>0</td>\n",
       "      <td>0</td>\n",
       "    </tr>\n",
       "    <tr>\n",
       "      <th>11559</th>\n",
       "      <td>0</td>\n",
       "      <td>0</td>\n",
       "    </tr>\n",
       "    <tr>\n",
       "      <th>8819</th>\n",
       "      <td>0</td>\n",
       "      <td>0</td>\n",
       "    </tr>\n",
       "    <tr>\n",
       "      <th>8559</th>\n",
       "      <td>0</td>\n",
       "      <td>0</td>\n",
       "    </tr>\n",
       "    <tr>\n",
       "      <th>12408</th>\n",
       "      <td>0</td>\n",
       "      <td>0</td>\n",
       "    </tr>\n",
       "    <tr>\n",
       "      <th>11171</th>\n",
       "      <td>0</td>\n",
       "      <td>0</td>\n",
       "    </tr>\n",
       "  </tbody>\n",
       "</table>\n",
       "</div>"
      ],
      "text/plain": [
       "       Actual  Predicted\n",
       "19798       0          0\n",
       "20163       0          0\n",
       "11398       0          0\n",
       "8616        0          0\n",
       "9599        0          0\n",
       "11559       0          0\n",
       "8819        0          0\n",
       "8559        0          0\n",
       "12408       0          0\n",
       "11171       0          0"
      ]
     },
     "execution_count": 19,
     "metadata": {},
     "output_type": "execute_result"
    }
   ],
   "source": [
    "log_reg = LogisticRegression()\n",
    "\n",
    "log_reg.fit(X_train, y_train)\n",
    "\n",
    "pred_log = log_reg.predict(X_test)\n",
    "pd.DataFrame({\"Actual\": y_test,\n",
    "              \"Predicted\": pred_log}).sample(10)"
   ]
  },
  {
   "cell_type": "markdown",
   "id": "bb6f70c8",
   "metadata": {},
   "source": [
    "**Confusion Matrix**"
   ]
  },
  {
   "cell_type": "code",
   "execution_count": 20,
   "id": "d9515f76",
   "metadata": {},
   "outputs": [
    {
     "data": {
      "text/html": [
       "<div>\n",
       "<style scoped>\n",
       "    .dataframe tbody tr th:only-of-type {\n",
       "        vertical-align: middle;\n",
       "    }\n",
       "\n",
       "    .dataframe tbody tr th {\n",
       "        vertical-align: top;\n",
       "    }\n",
       "\n",
       "    .dataframe thead th {\n",
       "        text-align: right;\n",
       "    }\n",
       "</style>\n",
       "<table border=\"1\" class=\"dataframe\">\n",
       "  <thead>\n",
       "    <tr style=\"text-align: right;\">\n",
       "      <th></th>\n",
       "      <th>Actual 0</th>\n",
       "      <th>Actual 1</th>\n",
       "    </tr>\n",
       "  </thead>\n",
       "  <tbody>\n",
       "    <tr>\n",
       "      <th>Predicted 0</th>\n",
       "      <td>4265</td>\n",
       "      <td>3</td>\n",
       "    </tr>\n",
       "    <tr>\n",
       "      <th>Predicted 1</th>\n",
       "      <td>15</td>\n",
       "      <td>56</td>\n",
       "    </tr>\n",
       "  </tbody>\n",
       "</table>\n",
       "</div>"
      ],
      "text/plain": [
       "             Actual 0  Actual 1\n",
       "Predicted 0      4265         3\n",
       "Predicted 1        15        56"
      ]
     },
     "execution_count": 20,
     "metadata": {},
     "output_type": "execute_result"
    }
   ],
   "source": [
    "pd.DataFrame(confusion_matrix(y_test, pred_log), columns = [\"Actual 0\", \"Actual 1\"], index = [\"Predicted 0\", \"Predicted 1\"])"
   ]
  },
  {
   "cell_type": "markdown",
   "id": "f836da94",
   "metadata": {},
   "source": [
    "**Classification Report**"
   ]
  },
  {
   "cell_type": "code",
   "execution_count": 21,
   "id": "fb323d07",
   "metadata": {},
   "outputs": [
    {
     "name": "stdout",
     "output_type": "stream",
     "text": [
      "              precision    recall  f1-score   support\n",
      "\n",
      "           0       1.00      1.00      1.00      4268\n",
      "           1       0.95      0.79      0.86        71\n",
      "\n",
      "    accuracy                           1.00      4339\n",
      "   macro avg       0.97      0.89      0.93      4339\n",
      "weighted avg       1.00      1.00      1.00      4339\n",
      "\n"
     ]
    }
   ],
   "source": [
    "print(classification_report(y_test, pred_log))"
   ]
  },
  {
   "cell_type": "markdown",
   "id": "258e1cdf",
   "metadata": {},
   "source": [
    "### Find Best Parameters"
   ]
  },
  {
   "cell_type": "code",
   "execution_count": 23,
   "id": "7fd998ee",
   "metadata": {},
   "outputs": [
    {
     "data": {
      "text/plain": [
       "{'C': 0.01, 'penalty': 'l2'}"
      ]
     },
     "execution_count": 23,
     "metadata": {},
     "output_type": "execute_result"
    }
   ],
   "source": [
    "parameters = {'penalty': ['l1', 'l2'],\n",
    "              'C':[0.01, 0.1, 1, 10, 100]}\n",
    "\n",
    "log = LogisticRegression()\n",
    "\n",
    "cv = GridSearchCV(log, parameters)\n",
    "\n",
    "cv.fit(X_train, y_train)\n",
    "\n",
    "cv.best_params_"
   ]
  },
  {
   "cell_type": "markdown",
   "id": "148be30f",
   "metadata": {},
   "source": [
    "**Logistic Regression with Parameters**"
   ]
  },
  {
   "cell_type": "code",
   "execution_count": 25,
   "id": "824cbc26",
   "metadata": {},
   "outputs": [
    {
     "data": {
      "text/html": [
       "<div>\n",
       "<style scoped>\n",
       "    .dataframe tbody tr th:only-of-type {\n",
       "        vertical-align: middle;\n",
       "    }\n",
       "\n",
       "    .dataframe tbody tr th {\n",
       "        vertical-align: top;\n",
       "    }\n",
       "\n",
       "    .dataframe thead th {\n",
       "        text-align: right;\n",
       "    }\n",
       "</style>\n",
       "<table border=\"1\" class=\"dataframe\">\n",
       "  <thead>\n",
       "    <tr style=\"text-align: right;\">\n",
       "      <th></th>\n",
       "      <th>Actual</th>\n",
       "      <th>Predicted</th>\n",
       "    </tr>\n",
       "  </thead>\n",
       "  <tbody>\n",
       "    <tr>\n",
       "      <th>5814</th>\n",
       "      <td>0</td>\n",
       "      <td>0</td>\n",
       "    </tr>\n",
       "    <tr>\n",
       "      <th>3159</th>\n",
       "      <td>0</td>\n",
       "      <td>0</td>\n",
       "    </tr>\n",
       "    <tr>\n",
       "      <th>12590</th>\n",
       "      <td>0</td>\n",
       "      <td>0</td>\n",
       "    </tr>\n",
       "    <tr>\n",
       "      <th>7967</th>\n",
       "      <td>0</td>\n",
       "      <td>0</td>\n",
       "    </tr>\n",
       "    <tr>\n",
       "      <th>290</th>\n",
       "      <td>0</td>\n",
       "      <td>0</td>\n",
       "    </tr>\n",
       "    <tr>\n",
       "      <th>19742</th>\n",
       "      <td>0</td>\n",
       "      <td>0</td>\n",
       "    </tr>\n",
       "    <tr>\n",
       "      <th>7572</th>\n",
       "      <td>0</td>\n",
       "      <td>0</td>\n",
       "    </tr>\n",
       "    <tr>\n",
       "      <th>4115</th>\n",
       "      <td>0</td>\n",
       "      <td>0</td>\n",
       "    </tr>\n",
       "    <tr>\n",
       "      <th>4981</th>\n",
       "      <td>0</td>\n",
       "      <td>0</td>\n",
       "    </tr>\n",
       "    <tr>\n",
       "      <th>19382</th>\n",
       "      <td>0</td>\n",
       "      <td>0</td>\n",
       "    </tr>\n",
       "  </tbody>\n",
       "</table>\n",
       "</div>"
      ],
      "text/plain": [
       "       Actual  Predicted\n",
       "5814        0          0\n",
       "3159        0          0\n",
       "12590       0          0\n",
       "7967        0          0\n",
       "290         0          0\n",
       "19742       0          0\n",
       "7572        0          0\n",
       "4115        0          0\n",
       "4981        0          0\n",
       "19382       0          0"
      ]
     },
     "execution_count": 25,
     "metadata": {},
     "output_type": "execute_result"
    }
   ],
   "source": [
    "logr = LogisticRegression(C = 0.01,\n",
    "                          penalty = 'l2')\n",
    "\n",
    "logr.fit(X_train, y_train)\n",
    "\n",
    "predlog = logr.predict(X_test)\n",
    "pd.DataFrame({\"Actual\": y_test,\n",
    "              \"Predicted\": predlog}).sample(10)"
   ]
  },
  {
   "cell_type": "markdown",
   "id": "07fe4498",
   "metadata": {},
   "source": [
    "**Confusion Matrix**"
   ]
  },
  {
   "cell_type": "code",
   "execution_count": 26,
   "id": "c6a23bd1",
   "metadata": {},
   "outputs": [
    {
     "data": {
      "text/html": [
       "<div>\n",
       "<style scoped>\n",
       "    .dataframe tbody tr th:only-of-type {\n",
       "        vertical-align: middle;\n",
       "    }\n",
       "\n",
       "    .dataframe tbody tr th {\n",
       "        vertical-align: top;\n",
       "    }\n",
       "\n",
       "    .dataframe thead th {\n",
       "        text-align: right;\n",
       "    }\n",
       "</style>\n",
       "<table border=\"1\" class=\"dataframe\">\n",
       "  <thead>\n",
       "    <tr style=\"text-align: right;\">\n",
       "      <th></th>\n",
       "      <th>Actual 0</th>\n",
       "      <th>Actual 1</th>\n",
       "    </tr>\n",
       "  </thead>\n",
       "  <tbody>\n",
       "    <tr>\n",
       "      <th>Predicted 0</th>\n",
       "      <td>4266</td>\n",
       "      <td>2</td>\n",
       "    </tr>\n",
       "    <tr>\n",
       "      <th>Predicted 1</th>\n",
       "      <td>19</td>\n",
       "      <td>52</td>\n",
       "    </tr>\n",
       "  </tbody>\n",
       "</table>\n",
       "</div>"
      ],
      "text/plain": [
       "             Actual 0  Actual 1\n",
       "Predicted 0      4266         2\n",
       "Predicted 1        19        52"
      ]
     },
     "execution_count": 26,
     "metadata": {},
     "output_type": "execute_result"
    }
   ],
   "source": [
    "pd.DataFrame(confusion_matrix(y_test, predlog), columns = [\"Actual 0\", \"Actual 1\"], index = [\"Predicted 0\", \"Predicted 1\"])"
   ]
  },
  {
   "cell_type": "markdown",
   "id": "d65117c7",
   "metadata": {},
   "source": [
    "**Classification Report**"
   ]
  },
  {
   "cell_type": "code",
   "execution_count": 27,
   "id": "bfe7a9b3",
   "metadata": {},
   "outputs": [
    {
     "name": "stdout",
     "output_type": "stream",
     "text": [
      "              precision    recall  f1-score   support\n",
      "\n",
      "           0       1.00      1.00      1.00      4268\n",
      "           1       0.96      0.73      0.83        71\n",
      "\n",
      "    accuracy                           1.00      4339\n",
      "   macro avg       0.98      0.87      0.91      4339\n",
      "weighted avg       1.00      1.00      0.99      4339\n",
      "\n"
     ]
    }
   ],
   "source": [
    "print(classification_report(y_test, predlog))"
   ]
  },
  {
   "cell_type": "code",
   "execution_count": null,
   "id": "7580c3a6",
   "metadata": {},
   "outputs": [],
   "source": []
  }
 ],
 "metadata": {
  "kernelspec": {
   "display_name": "Python 3 (ipykernel)",
   "language": "python",
   "name": "python3"
  },
  "language_info": {
   "codemirror_mode": {
    "name": "ipython",
    "version": 3
   },
   "file_extension": ".py",
   "mimetype": "text/x-python",
   "name": "python",
   "nbconvert_exporter": "python",
   "pygments_lexer": "ipython3",
   "version": "3.7.11"
  }
 },
 "nbformat": 4,
 "nbformat_minor": 5
}
